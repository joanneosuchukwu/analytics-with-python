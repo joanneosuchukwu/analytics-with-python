{
 "cells": [
  {
   "cell_type": "markdown",
   "id": "3b2afa5c",
   "metadata": {},
   "source": [
    "# Heart Disease Prediction"
   ]
  },
  {
   "cell_type": "markdown",
   "id": "ee538832",
   "metadata": {},
   "source": [
    "###### Joanne Osuchukwu"
   ]
  },
  {
   "cell_type": "markdown",
   "id": "65debdf7",
   "metadata": {},
   "source": [
    "### Introduction"
   ]
  },
  {
   "cell_type": "markdown",
   "id": "db029c4a",
   "metadata": {},
   "source": [
    "* Cardiovascular disease is a leading cause of death in the world. Series of cardiovascular risk factors, clinical and investigation findings guide physicians in the diagnosis of different types of heart disease. However, with time and accuracy being of utmost importance in the diagnosis and treatment of patients, often times, the clinical signs and symptoms are silent, leading to missed, wrong or delayed diagnoses. In order to prevent heart disease, it is important to predict the chances of occurrence. The information age and advances in Machine Learning provide opportunities to do this. This classification problem compares five models that attempt to predict whether or not a patient will develop heart disease. The algorithms used are: RandomForestClassifier, LogisticRegression, DecisionTreesClassifier, XGBoost and SVM. "
   ]
  },
  {
   "cell_type": "markdown",
   "id": "9943c35e",
   "metadata": {},
   "source": [
    "### Aim"
   ]
  },
  {
   "cell_type": "markdown",
   "id": "4646b203",
   "metadata": {},
   "source": [
    "* Aim: The classification task is to predict whether a patient will develop heart disease or not (given the available independent variables)"
   ]
  },
  {
   "cell_type": "markdown",
   "id": "f0d856f2",
   "metadata": {},
   "source": [
    "### Data source"
   ]
  },
  {
   "cell_type": "markdown",
   "id": "8905075b",
   "metadata": {},
   "source": [
    "* The dataset is publicly available on Kaggle and it comes from the University of California Irvine's Machine Learning Repository at https://archive.ics.uci.edu/ml/datasets/Heart+Disease. It includes 270 rows and 14 columns"
   ]
  },
  {
   "cell_type": "markdown",
   "id": "7ced9c6a",
   "metadata": {},
   "source": [
    "### Import Libraries"
   ]
  },
  {
   "cell_type": "code",
   "execution_count": 101,
   "id": "1b446bfd",
   "metadata": {},
   "outputs": [],
   "source": [
    "# Load Libraries and Packages\n",
    "\n",
    "import numpy as np\n",
    "import pandas as pd\n",
    "import seaborn as sns\n",
    "import matplotlib.pyplot as plt\n",
    "import warnings\n",
    "warnings.filterwarnings(\"ignore\")\n",
    "\n",
    "from sklearn.model_selection import train_test_split\n",
    "from sklearn.preprocessing import StandardScaler\n",
    "from sklearn.linear_model import LogisticRegression\n",
    "from sklearn.ensemble import RandomForestClassifier, GradientBoostingClassifier, BaggingClassifier\n",
    "from sklearn.tree import DecisionTreeRegressor\n",
    "from sklearn.tree import DecisionTreeClassifier\n",
    "from sklearn import metrics\n",
    "from sklearn.svm import SVC\n",
    "from xgboost import XGBClassifier\n",
    "from sklearn.model_selection import cross_val_score, StratifiedKFold\n",
    "from sklearn.metrics import accuracy_score\n",
    "from sklearn.metrics import precision_recall_curve"
   ]
  },
  {
   "cell_type": "markdown",
   "id": "4dad21de",
   "metadata": {},
   "source": [
    "### Load dataset"
   ]
  },
  {
   "cell_type": "code",
   "execution_count": 2,
   "id": "f50132f3",
   "metadata": {},
   "outputs": [],
   "source": [
    "hd = pd.read_csv(r\"/Users/joanneosuchukwu/Desktop/SOP Research and work/Projects/Heart disease prediction/Heart_Disease_Prediction.csv\")"
   ]
  },
  {
   "cell_type": "code",
   "execution_count": 3,
   "id": "6772b3fc",
   "metadata": {},
   "outputs": [
    {
     "data": {
      "text/html": [
       "<div>\n",
       "<style scoped>\n",
       "    .dataframe tbody tr th:only-of-type {\n",
       "        vertical-align: middle;\n",
       "    }\n",
       "\n",
       "    .dataframe tbody tr th {\n",
       "        vertical-align: top;\n",
       "    }\n",
       "\n",
       "    .dataframe thead th {\n",
       "        text-align: right;\n",
       "    }\n",
       "</style>\n",
       "<table border=\"1\" class=\"dataframe\">\n",
       "  <thead>\n",
       "    <tr style=\"text-align: right;\">\n",
       "      <th></th>\n",
       "      <th>Age</th>\n",
       "      <th>Sex</th>\n",
       "      <th>Chest pain type</th>\n",
       "      <th>BP</th>\n",
       "      <th>Cholesterol</th>\n",
       "      <th>FBS over 120</th>\n",
       "      <th>EKG results</th>\n",
       "      <th>Max HR</th>\n",
       "      <th>Exercise angina</th>\n",
       "      <th>ST depression</th>\n",
       "      <th>Slope of ST</th>\n",
       "      <th>Number of vessels fluro</th>\n",
       "      <th>Thallium</th>\n",
       "      <th>Heart Disease</th>\n",
       "    </tr>\n",
       "  </thead>\n",
       "  <tbody>\n",
       "    <tr>\n",
       "      <th>0</th>\n",
       "      <td>70</td>\n",
       "      <td>1</td>\n",
       "      <td>4</td>\n",
       "      <td>130</td>\n",
       "      <td>322</td>\n",
       "      <td>0</td>\n",
       "      <td>2</td>\n",
       "      <td>109</td>\n",
       "      <td>0</td>\n",
       "      <td>2.4</td>\n",
       "      <td>2</td>\n",
       "      <td>3</td>\n",
       "      <td>3</td>\n",
       "      <td>Presence</td>\n",
       "    </tr>\n",
       "    <tr>\n",
       "      <th>1</th>\n",
       "      <td>67</td>\n",
       "      <td>0</td>\n",
       "      <td>3</td>\n",
       "      <td>115</td>\n",
       "      <td>564</td>\n",
       "      <td>0</td>\n",
       "      <td>2</td>\n",
       "      <td>160</td>\n",
       "      <td>0</td>\n",
       "      <td>1.6</td>\n",
       "      <td>2</td>\n",
       "      <td>0</td>\n",
       "      <td>7</td>\n",
       "      <td>Absence</td>\n",
       "    </tr>\n",
       "    <tr>\n",
       "      <th>2</th>\n",
       "      <td>57</td>\n",
       "      <td>1</td>\n",
       "      <td>2</td>\n",
       "      <td>124</td>\n",
       "      <td>261</td>\n",
       "      <td>0</td>\n",
       "      <td>0</td>\n",
       "      <td>141</td>\n",
       "      <td>0</td>\n",
       "      <td>0.3</td>\n",
       "      <td>1</td>\n",
       "      <td>0</td>\n",
       "      <td>7</td>\n",
       "      <td>Presence</td>\n",
       "    </tr>\n",
       "    <tr>\n",
       "      <th>3</th>\n",
       "      <td>64</td>\n",
       "      <td>1</td>\n",
       "      <td>4</td>\n",
       "      <td>128</td>\n",
       "      <td>263</td>\n",
       "      <td>0</td>\n",
       "      <td>0</td>\n",
       "      <td>105</td>\n",
       "      <td>1</td>\n",
       "      <td>0.2</td>\n",
       "      <td>2</td>\n",
       "      <td>1</td>\n",
       "      <td>7</td>\n",
       "      <td>Absence</td>\n",
       "    </tr>\n",
       "    <tr>\n",
       "      <th>4</th>\n",
       "      <td>74</td>\n",
       "      <td>0</td>\n",
       "      <td>2</td>\n",
       "      <td>120</td>\n",
       "      <td>269</td>\n",
       "      <td>0</td>\n",
       "      <td>2</td>\n",
       "      <td>121</td>\n",
       "      <td>1</td>\n",
       "      <td>0.2</td>\n",
       "      <td>1</td>\n",
       "      <td>1</td>\n",
       "      <td>3</td>\n",
       "      <td>Absence</td>\n",
       "    </tr>\n",
       "  </tbody>\n",
       "</table>\n",
       "</div>"
      ],
      "text/plain": [
       "   Age  Sex  Chest pain type   BP  Cholesterol  FBS over 120  EKG results  \\\n",
       "0   70    1                4  130          322             0            2   \n",
       "1   67    0                3  115          564             0            2   \n",
       "2   57    1                2  124          261             0            0   \n",
       "3   64    1                4  128          263             0            0   \n",
       "4   74    0                2  120          269             0            2   \n",
       "\n",
       "   Max HR  Exercise angina  ST depression  Slope of ST  \\\n",
       "0     109                0            2.4            2   \n",
       "1     160                0            1.6            2   \n",
       "2     141                0            0.3            1   \n",
       "3     105                1            0.2            2   \n",
       "4     121                1            0.2            1   \n",
       "\n",
       "   Number of vessels fluro  Thallium Heart Disease  \n",
       "0                        3         3      Presence  \n",
       "1                        0         7       Absence  \n",
       "2                        0         7      Presence  \n",
       "3                        1         7       Absence  \n",
       "4                        1         3       Absence  "
      ]
     },
     "execution_count": 3,
     "metadata": {},
     "output_type": "execute_result"
    }
   ],
   "source": [
    "hd.head()"
   ]
  },
  {
   "cell_type": "code",
   "execution_count": 4,
   "id": "66f79809",
   "metadata": {},
   "outputs": [
    {
     "data": {
      "text/plain": [
       "(270, 14)"
      ]
     },
     "execution_count": 4,
     "metadata": {},
     "output_type": "execute_result"
    }
   ],
   "source": [
    "hd.shape"
   ]
  },
  {
   "cell_type": "markdown",
   "id": "e5645e7f",
   "metadata": {},
   "source": [
    "### Variables"
   ]
  },
  {
   "cell_type": "markdown",
   "id": "81994d20",
   "metadata": {},
   "source": [
    "The columns entail potential risk factors for heart disease. They include demograhic and clinical factors"
   ]
  },
  {
   "cell_type": "markdown",
   "id": "e9e7e90d",
   "metadata": {},
   "source": [
    "#### Demographic: Age, Sex\n",
    "* Age of the patient in years - continuous numerical data ranging from 29 to 77\n",
    "* Sex - categorical (1 - male; 0 - female)"
   ]
  },
  {
   "cell_type": "markdown",
   "id": "5baa2d68",
   "metadata": {},
   "source": [
    "#### Clinical data include: \n",
    "* Chest pain type - categorical; decreasingly ranked from type 1 to 4 (typical angina, atypical angina, non-anginal pain, asymptomatic, respectively)\n",
    "* BP - numerical data depicting systolic blood pressure in mmHg\n",
    "* Max HR - numerical data depicting maximum heart rate\n",
    "\n",
    "\n",
    "* cholesterol - numerical data depicting blood cholesterol levels in mg/dl\n",
    "* FBS over 120 EKG results - categorical; whether or not the fasting blood sugar was over 120mg/dl (1 = True; 0 = False)\n",
    "* Exercise Angina - categorical; whether or not the patient experienced exercise angina (1 = True; 0 = False)\n",
    "* EKG results  - Categorical; 0 = normal, 1 = having ST-T wave abnormality, 2 = showing probable or definite left ventricular hypertrophy by Estes' criteria\n",
    "* ST depression - continuous; relates to positions on the ECG plot\n",
    "* Slope of ST - categorical; 1: upsloping, 2: flat, 3: downsloping\n",
    "* Thalium - categorical; Results of the blood flow observed via the radioactive dye - 3 = normal; 6 = fixed defect(no blood flow in some part of the heart); 7 = reversable defect (a blood flow is observed but it is not normal)\n",
    "* Number of vessels fluoro - Number of major blood vessels affected (0-3)\n"
   ]
  },
  {
   "cell_type": "markdown",
   "id": "67a969ad",
   "metadata": {},
   "source": [
    "### Missing Data - Nil"
   ]
  },
  {
   "cell_type": "code",
   "execution_count": 5,
   "id": "06de99db",
   "metadata": {},
   "outputs": [
    {
     "name": "stdout",
     "output_type": "stream",
     "text": [
      "<class 'pandas.core.frame.DataFrame'>\n",
      "RangeIndex: 270 entries, 0 to 269\n",
      "Data columns (total 14 columns):\n",
      " #   Column                   Non-Null Count  Dtype  \n",
      "---  ------                   --------------  -----  \n",
      " 0   Age                      270 non-null    int64  \n",
      " 1   Sex                      270 non-null    int64  \n",
      " 2   Chest pain type          270 non-null    int64  \n",
      " 3   BP                       270 non-null    int64  \n",
      " 4   Cholesterol              270 non-null    int64  \n",
      " 5   FBS over 120             270 non-null    int64  \n",
      " 6   EKG results              270 non-null    int64  \n",
      " 7   Max HR                   270 non-null    int64  \n",
      " 8   Exercise angina          270 non-null    int64  \n",
      " 9   ST depression            270 non-null    float64\n",
      " 10  Slope of ST              270 non-null    int64  \n",
      " 11  Number of vessels fluro  270 non-null    int64  \n",
      " 12  Thallium                 270 non-null    int64  \n",
      " 13  Heart Disease            270 non-null    object \n",
      "dtypes: float64(1), int64(12), object(1)\n",
      "memory usage: 29.7+ KB\n"
     ]
    }
   ],
   "source": [
    "hd.info() #no missing data present"
   ]
  },
  {
   "cell_type": "markdown",
   "id": "1313ba23",
   "metadata": {},
   "source": [
    "# EXPLORATORY DATA ANALYSIS"
   ]
  },
  {
   "cell_type": "code",
   "execution_count": 6,
   "id": "e11085a1",
   "metadata": {
    "scrolled": false
   },
   "outputs": [
    {
     "data": {
      "text/plain": [
       "Absence     150\n",
       "Presence    120\n",
       "Name: Heart Disease, dtype: int64"
      ]
     },
     "execution_count": 6,
     "metadata": {},
     "output_type": "execute_result"
    }
   ],
   "source": [
    "hd['Heart Disease'].value_counts() #Absence 0, Presence 1"
   ]
  },
  {
   "cell_type": "code",
   "execution_count": 7,
   "id": "2a03b17e",
   "metadata": {
    "scrolled": false
   },
   "outputs": [
    {
     "data": {
      "text/plain": [
       "<AxesSubplot:xlabel='Heart Disease', ylabel='count'>"
      ]
     },
     "execution_count": 7,
     "metadata": {},
     "output_type": "execute_result"
    },
    {
     "data": {
      "image/png": "[encoded data removed]",
      "text/plain": [
       "<Figure size 432x288 with 1 Axes>"
      ]
     },
     "metadata": {
      "needs_background": "light"
     },
     "output_type": "display_data"
    }
   ],
   "source": [
    "sns.countplot(x = 'Heart Disease', data=hd, palette=\"Set3\")"
   ]
  },
  {
   "cell_type": "markdown",
   "id": "f8e1f46c",
   "metadata": {},
   "source": [
    "* About 120 patients have heart disease; over 140 do not"
   ]
  },
  {
   "cell_type": "code",
   "execution_count": 8,
   "id": "3b9d0858",
   "metadata": {},
   "outputs": [
    {
     "data": {
      "text/plain": [
       "<AxesSubplot:>"
      ]
     },
     "execution_count": 8,
     "metadata": {},
     "output_type": "execute_result"
    },
    {
     "data": {
      "image/png": "[encoded data removed]",
      "text/plain": [
       "<Figure size 864x720 with 2 Axes>"
      ]
     },
     "metadata": {
      "needs_background": "light"
     },
     "output_type": "display_data"
    }
   ],
   "source": [
    "plt.figure(figsize=(12,10))\n",
    "sns.heatmap(hd.corr(),annot=True,cmap=\"magma\",fmt='.2f')"
   ]
  },
  {
   "cell_type": "markdown",
   "id": "63d2ffb3",
   "metadata": {},
   "source": [
    "### Age"
   ]
  },
  {
   "cell_type": "code",
   "execution_count": 9,
   "id": "9ffd632c",
   "metadata": {},
   "outputs": [
    {
     "data": {
      "text/plain": [
       "array([70, 67, 57, 64, 74, 65, 56, 59, 60, 63, 53, 44, 61, 71, 46, 40, 48,\n",
       "       43, 47, 54, 51, 58, 66, 37, 50, 42, 62, 49, 52, 45, 41, 76, 39, 35,\n",
       "       55, 34, 38, 69, 68, 77, 29])"
      ]
     },
     "execution_count": 9,
     "metadata": {},
     "output_type": "execute_result"
    }
   ],
   "source": [
    "hd['Age'].unique() #41 unique Age values"
   ]
  },
  {
   "cell_type": "code",
   "execution_count": 10,
   "id": "b51b1017",
   "metadata": {},
   "outputs": [
    {
     "data": {
      "text/plain": [
       "77"
      ]
     },
     "execution_count": 10,
     "metadata": {},
     "output_type": "execute_result"
    }
   ],
   "source": [
    "hd['Age'].max()"
   ]
  },
  {
   "cell_type": "code",
   "execution_count": 11,
   "id": "347d872c",
   "metadata": {
    "scrolled": true
   },
   "outputs": [
    {
     "data": {
      "text/plain": [
       "29"
      ]
     },
     "execution_count": 11,
     "metadata": {},
     "output_type": "execute_result"
    }
   ],
   "source": [
    "hd['Age'].min()"
   ]
  },
  {
   "cell_type": "markdown",
   "id": "72ef70a2",
   "metadata": {},
   "source": [
    "* The patients' age range span 29 years - 77 years"
   ]
  },
  {
   "cell_type": "code",
   "execution_count": 12,
   "id": "94e18245",
   "metadata": {},
   "outputs": [
    {
     "data": {
      "text/plain": [
       "54.43333333333333"
      ]
     },
     "execution_count": 12,
     "metadata": {},
     "output_type": "execute_result"
    }
   ],
   "source": [
    "hd['Age'].mean()"
   ]
  },
  {
   "cell_type": "code",
   "execution_count": 13,
   "id": "b8479079",
   "metadata": {
    "scrolled": true
   },
   "outputs": [
    {
     "data": {
      "text/plain": [
       "55.0"
      ]
     },
     "execution_count": 13,
     "metadata": {},
     "output_type": "execute_result"
    }
   ],
   "source": [
    "hd['Age'].median()"
   ]
  },
  {
   "cell_type": "code",
   "execution_count": 14,
   "id": "b3fd5200",
   "metadata": {},
   "outputs": [
    {
     "data": {
      "text/plain": [
       "0    54\n",
       "dtype: int64"
      ]
     },
     "execution_count": 14,
     "metadata": {},
     "output_type": "execute_result"
    }
   ],
   "source": [
    "hd['Age'].mode()"
   ]
  },
  {
   "cell_type": "code",
   "execution_count": 15,
   "id": "ef93c2fe",
   "metadata": {
    "scrolled": false
   },
   "outputs": [
    {
     "data": {
      "text/plain": [
       "<AxesSubplot:xlabel='Age', ylabel='Density'>"
      ]
     },
     "execution_count": 15,
     "metadata": {},
     "output_type": "execute_result"
    },
    {
     "data": {
      "image/png": "[encoded data removed]",
      "text/plain": [
       "<Figure size 432x288 with 1 Axes>"
      ]
     },
     "metadata": {
      "needs_background": "light"
     },
     "output_type": "display_data"
    }
   ],
   "source": [
    "sns.kdeplot(hd['Age']) # slightly left skewed"
   ]
  },
  {
   "cell_type": "markdown",
   "id": "90107d29",
   "metadata": {},
   "source": [
    "### compare age to heart disease"
   ]
  },
  {
   "cell_type": "code",
   "execution_count": 16,
   "id": "d60ad712",
   "metadata": {
    "scrolled": true
   },
   "outputs": [
    {
     "data": {
      "text/plain": [
       "<AxesSubplot:xlabel='Heart Disease', ylabel='Age'>"
      ]
     },
     "execution_count": 16,
     "metadata": {},
     "output_type": "execute_result"
    },
    {
     "data": {
      "image/png": "[encoded data removed]",
      "text/plain": [
       "<Figure size 432x288 with 1 Axes>"
      ]
     },
     "metadata": {
      "needs_background": "light"
     },
     "output_type": "display_data"
    }
   ],
   "source": [
    "sns.barplot(x='Heart Disease', y='Age', data=hd, palette=\"Set3\")"
   ]
  },
  {
   "cell_type": "markdown",
   "id": "7371c9f3",
   "metadata": {},
   "source": [
    "* Looking at the plot, we can say that the average age of patients with heart disease is slightly more than those without "
   ]
  },
  {
   "cell_type": "code",
   "execution_count": 17,
   "id": "aafe10d3",
   "metadata": {},
   "outputs": [],
   "source": [
    "# group age into intervals\n",
    "\n",
    "def age_range(x):\n",
    "    if 20 <= x < 30:\n",
    "        return \"20 - 29\"\n",
    "    elif 30 <= x < 40:\n",
    "        return \"30 - 39\"\n",
    "    elif 40 <= x < 50:\n",
    "        return \"40 - 49\"\n",
    "    elif 50 <= x < 60:\n",
    "        return \"50 - 59\"\n",
    "    elif 60 <= x < 70:\n",
    "        return \"60 - 69\"\n",
    "    elif 70 <= x < 80:\n",
    "        return \"70 - 79\"\n",
    "    else:\n",
    "        return \"NA\"\n",
    "    \n",
    "hd['Age_Interval'] = hd['Age'].apply(age_range)"
   ]
  },
  {
   "cell_type": "code",
   "execution_count": 18,
   "id": "509e2d97",
   "metadata": {
    "scrolled": false
   },
   "outputs": [
    {
     "data": {
      "text/html": [
       "<div>\n",
       "<style scoped>\n",
       "    .dataframe tbody tr th:only-of-type {\n",
       "        vertical-align: middle;\n",
       "    }\n",
       "\n",
       "    .dataframe tbody tr th {\n",
       "        vertical-align: top;\n",
       "    }\n",
       "\n",
       "    .dataframe thead th {\n",
       "        text-align: right;\n",
       "    }\n",
       "</style>\n",
       "<table border=\"1\" class=\"dataframe\">\n",
       "  <thead>\n",
       "    <tr style=\"text-align: right;\">\n",
       "      <th></th>\n",
       "      <th>Age</th>\n",
       "      <th>Sex</th>\n",
       "      <th>Chest pain type</th>\n",
       "      <th>BP</th>\n",
       "      <th>Cholesterol</th>\n",
       "      <th>FBS over 120</th>\n",
       "      <th>EKG results</th>\n",
       "      <th>Max HR</th>\n",
       "      <th>Exercise angina</th>\n",
       "      <th>ST depression</th>\n",
       "      <th>Slope of ST</th>\n",
       "      <th>Number of vessels fluro</th>\n",
       "      <th>Thallium</th>\n",
       "      <th>Heart Disease</th>\n",
       "      <th>Age_Interval</th>\n",
       "    </tr>\n",
       "  </thead>\n",
       "  <tbody>\n",
       "    <tr>\n",
       "      <th>0</th>\n",
       "      <td>70</td>\n",
       "      <td>1</td>\n",
       "      <td>4</td>\n",
       "      <td>130</td>\n",
       "      <td>322</td>\n",
       "      <td>0</td>\n",
       "      <td>2</td>\n",
       "      <td>109</td>\n",
       "      <td>0</td>\n",
       "      <td>2.4</td>\n",
       "      <td>2</td>\n",
       "      <td>3</td>\n",
       "      <td>3</td>\n",
       "      <td>Presence</td>\n",
       "      <td>70 - 79</td>\n",
       "    </tr>\n",
       "    <tr>\n",
       "      <th>1</th>\n",
       "      <td>67</td>\n",
       "      <td>0</td>\n",
       "      <td>3</td>\n",
       "      <td>115</td>\n",
       "      <td>564</td>\n",
       "      <td>0</td>\n",
       "      <td>2</td>\n",
       "      <td>160</td>\n",
       "      <td>0</td>\n",
       "      <td>1.6</td>\n",
       "      <td>2</td>\n",
       "      <td>0</td>\n",
       "      <td>7</td>\n",
       "      <td>Absence</td>\n",
       "      <td>60 - 69</td>\n",
       "    </tr>\n",
       "    <tr>\n",
       "      <th>2</th>\n",
       "      <td>57</td>\n",
       "      <td>1</td>\n",
       "      <td>2</td>\n",
       "      <td>124</td>\n",
       "      <td>261</td>\n",
       "      <td>0</td>\n",
       "      <td>0</td>\n",
       "      <td>141</td>\n",
       "      <td>0</td>\n",
       "      <td>0.3</td>\n",
       "      <td>1</td>\n",
       "      <td>0</td>\n",
       "      <td>7</td>\n",
       "      <td>Presence</td>\n",
       "      <td>50 - 59</td>\n",
       "    </tr>\n",
       "    <tr>\n",
       "      <th>3</th>\n",
       "      <td>64</td>\n",
       "      <td>1</td>\n",
       "      <td>4</td>\n",
       "      <td>128</td>\n",
       "      <td>263</td>\n",
       "      <td>0</td>\n",
       "      <td>0</td>\n",
       "      <td>105</td>\n",
       "      <td>1</td>\n",
       "      <td>0.2</td>\n",
       "      <td>2</td>\n",
       "      <td>1</td>\n",
       "      <td>7</td>\n",
       "      <td>Absence</td>\n",
       "      <td>60 - 69</td>\n",
       "    </tr>\n",
       "    <tr>\n",
       "      <th>4</th>\n",
       "      <td>74</td>\n",
       "      <td>0</td>\n",
       "      <td>2</td>\n",
       "      <td>120</td>\n",
       "      <td>269</td>\n",
       "      <td>0</td>\n",
       "      <td>2</td>\n",
       "      <td>121</td>\n",
       "      <td>1</td>\n",
       "      <td>0.2</td>\n",
       "      <td>1</td>\n",
       "      <td>1</td>\n",
       "      <td>3</td>\n",
       "      <td>Absence</td>\n",
       "      <td>70 - 79</td>\n",
       "    </tr>\n",
       "  </tbody>\n",
       "</table>\n",
       "</div>"
      ],
      "text/plain": [
       "   Age  Sex  Chest pain type   BP  Cholesterol  FBS over 120  EKG results  \\\n",
       "0   70    1                4  130          322             0            2   \n",
       "1   67    0                3  115          564             0            2   \n",
       "2   57    1                2  124          261             0            0   \n",
       "3   64    1                4  128          263             0            0   \n",
       "4   74    0                2  120          269             0            2   \n",
       "\n",
       "   Max HR  Exercise angina  ST depression  Slope of ST  \\\n",
       "0     109                0            2.4            2   \n",
       "1     160                0            1.6            2   \n",
       "2     141                0            0.3            1   \n",
       "3     105                1            0.2            2   \n",
       "4     121                1            0.2            1   \n",
       "\n",
       "   Number of vessels fluro  Thallium Heart Disease Age_Interval  \n",
       "0                        3         3      Presence      70 - 79  \n",
       "1                        0         7       Absence      60 - 69  \n",
       "2                        0         7      Presence      50 - 59  \n",
       "3                        1         7       Absence      60 - 69  \n",
       "4                        1         3       Absence      70 - 79  "
      ]
     },
     "execution_count": 18,
     "metadata": {},
     "output_type": "execute_result"
    }
   ],
   "source": [
    "hd.head()"
   ]
  },
  {
   "cell_type": "markdown",
   "id": "6179d4dc",
   "metadata": {},
   "source": [
    "### compare age range to heart disease"
   ]
  },
  {
   "cell_type": "code",
   "execution_count": 19,
   "id": "778b2ca6",
   "metadata": {
    "scrolled": true
   },
   "outputs": [
    {
     "data": {
      "text/plain": [
       "<AxesSubplot:xlabel='Age_Interval', ylabel='count'>"
      ]
     },
     "execution_count": 19,
     "metadata": {},
     "output_type": "execute_result"
    },
    {
     "data": {
      "image/png": "[encoded data removed]",
      "text/plain": [
       "<Figure size 432x288 with 1 Axes>"
      ]
     },
     "metadata": {
      "needs_background": "light"
     },
     "output_type": "display_data"
    }
   ],
   "source": [
    "sns.countplot(x='Age_Interval', hue='Heart Disease', data=hd, palette=\"Set2\")"
   ]
  },
  {
   "cell_type": "markdown",
   "id": "8e9c4c7d",
   "metadata": {},
   "source": [
    "* Age range 40 - 49 years has the highest Absent : Present ratio of heart disease"
   ]
  },
  {
   "cell_type": "markdown",
   "id": "afa1c3fd",
   "metadata": {},
   "source": [
    "### Compare sex to heart disease"
   ]
  },
  {
   "cell_type": "code",
   "execution_count": 20,
   "id": "92568ba7",
   "metadata": {
    "scrolled": true
   },
   "outputs": [
    {
     "data": {
      "text/plain": [
       "<AxesSubplot:xlabel='Sex', ylabel='count'>"
      ]
     },
     "execution_count": 20,
     "metadata": {},
     "output_type": "execute_result"
    },
    {
     "data": {
      "image/png": "[encoded data removed]",
      "text/plain": [
       "<Figure size 432x288 with 1 Axes>"
      ]
     },
     "metadata": {
      "needs_background": "light"
     },
     "output_type": "display_data"
    }
   ],
   "source": [
    "sns.countplot(x='Sex', hue='Heart Disease', data=hd, palette=\"Set2\")"
   ]
  },
  {
   "cell_type": "markdown",
   "id": "1ffddf9d",
   "metadata": {},
   "source": [
    "* Males appear more likely to have heart disease"
   ]
  },
  {
   "cell_type": "markdown",
   "id": "bca1a406",
   "metadata": {},
   "source": [
    "### Grade of chest pain"
   ]
  },
  {
   "cell_type": "code",
   "execution_count": 21,
   "id": "0a1796df",
   "metadata": {
    "scrolled": true
   },
   "outputs": [
    {
     "data": {
      "text/plain": [
       "<AxesSubplot:xlabel='Chest pain type', ylabel='count'>"
      ]
     },
     "execution_count": 21,
     "metadata": {},
     "output_type": "execute_result"
    },
    {
     "data": {
      "image/png": "[encoded data removed]",
      "text/plain": [
       "<Figure size 432x288 with 1 Axes>"
      ]
     },
     "metadata": {
      "needs_background": "light"
     },
     "output_type": "display_data"
    }
   ],
   "source": [
    "sns.countplot(x='Chest pain type', hue='Heart Disease', data=hd, palette=\"Set2\")"
   ]
  },
  {
   "cell_type": "markdown",
   "id": "1a42725d",
   "metadata": {},
   "source": [
    "* A lot of the patients with heart disease are found to be asymptomatic (type 4 chest pain)"
   ]
  },
  {
   "cell_type": "markdown",
   "id": "341d4da7",
   "metadata": {},
   "source": [
    "### BP"
   ]
  },
  {
   "cell_type": "code",
   "execution_count": 22,
   "id": "d0a04f88",
   "metadata": {
    "scrolled": true
   },
   "outputs": [
    {
     "data": {
      "text/plain": [
       "<AxesSubplot:xlabel='BP', ylabel='Heart Disease'>"
      ]
     },
     "execution_count": 22,
     "metadata": {},
     "output_type": "execute_result"
    },
    {
     "data": {
      "image/png": "[encoded data removed]",
      "text/plain": [
       "<Figure size 432x288 with 1 Axes>"
      ]
     },
     "metadata": {
      "needs_background": "light"
     },
     "output_type": "display_data"
    }
   ],
   "source": [
    "sns.scatterplot(x='BP', y='Heart Disease', data=hd, palette=\"Set2\")"
   ]
  },
  {
   "cell_type": "markdown",
   "id": "4478d554",
   "metadata": {},
   "source": [
    "* Incidence of heart disease is increasing with elevating BP"
   ]
  },
  {
   "cell_type": "code",
   "execution_count": 23,
   "id": "180c24d5",
   "metadata": {},
   "outputs": [],
   "source": [
    "# Systolic BP ranges - JNC classification\n",
    "\n",
    "def bp_range(BP):\n",
    "    if BP < 80:\n",
    "        return \"Low\"\n",
    "    elif 80 <= BP < 120:\n",
    "        return \"Normal Range\"\n",
    "    elif 120 <= BP < 140:\n",
    "        return \"Pre-HTN\"\n",
    "    elif 140 <= BP < 160:\n",
    "        return \"Stage 1 HTN\"\n",
    "    else:\n",
    "        return \"Stage 2 HTN\"\n",
    "    \n",
    "hd['BP_range'] = hd['BP'].apply(bp_range)"
   ]
  },
  {
   "cell_type": "code",
   "execution_count": 24,
   "id": "f7d33911",
   "metadata": {},
   "outputs": [
    {
     "data": {
      "text/html": [
       "<div>\n",
       "<style scoped>\n",
       "    .dataframe tbody tr th:only-of-type {\n",
       "        vertical-align: middle;\n",
       "    }\n",
       "\n",
       "    .dataframe tbody tr th {\n",
       "        vertical-align: top;\n",
       "    }\n",
       "\n",
       "    .dataframe thead th {\n",
       "        text-align: right;\n",
       "    }\n",
       "</style>\n",
       "<table border=\"1\" class=\"dataframe\">\n",
       "  <thead>\n",
       "    <tr style=\"text-align: right;\">\n",
       "      <th></th>\n",
       "      <th>Age</th>\n",
       "      <th>Sex</th>\n",
       "      <th>Chest pain type</th>\n",
       "      <th>BP</th>\n",
       "      <th>Cholesterol</th>\n",
       "      <th>FBS over 120</th>\n",
       "      <th>EKG results</th>\n",
       "      <th>Max HR</th>\n",
       "      <th>Exercise angina</th>\n",
       "      <th>ST depression</th>\n",
       "      <th>Slope of ST</th>\n",
       "      <th>Number of vessels fluro</th>\n",
       "      <th>Thallium</th>\n",
       "      <th>Heart Disease</th>\n",
       "      <th>Age_Interval</th>\n",
       "      <th>BP_range</th>\n",
       "    </tr>\n",
       "  </thead>\n",
       "  <tbody>\n",
       "    <tr>\n",
       "      <th>0</th>\n",
       "      <td>70</td>\n",
       "      <td>1</td>\n",
       "      <td>4</td>\n",
       "      <td>130</td>\n",
       "      <td>322</td>\n",
       "      <td>0</td>\n",
       "      <td>2</td>\n",
       "      <td>109</td>\n",
       "      <td>0</td>\n",
       "      <td>2.4</td>\n",
       "      <td>2</td>\n",
       "      <td>3</td>\n",
       "      <td>3</td>\n",
       "      <td>Presence</td>\n",
       "      <td>70 - 79</td>\n",
       "      <td>Pre-HTN</td>\n",
       "    </tr>\n",
       "    <tr>\n",
       "      <th>1</th>\n",
       "      <td>67</td>\n",
       "      <td>0</td>\n",
       "      <td>3</td>\n",
       "      <td>115</td>\n",
       "      <td>564</td>\n",
       "      <td>0</td>\n",
       "      <td>2</td>\n",
       "      <td>160</td>\n",
       "      <td>0</td>\n",
       "      <td>1.6</td>\n",
       "      <td>2</td>\n",
       "      <td>0</td>\n",
       "      <td>7</td>\n",
       "      <td>Absence</td>\n",
       "      <td>60 - 69</td>\n",
       "      <td>Normal Range</td>\n",
       "    </tr>\n",
       "    <tr>\n",
       "      <th>2</th>\n",
       "      <td>57</td>\n",
       "      <td>1</td>\n",
       "      <td>2</td>\n",
       "      <td>124</td>\n",
       "      <td>261</td>\n",
       "      <td>0</td>\n",
       "      <td>0</td>\n",
       "      <td>141</td>\n",
       "      <td>0</td>\n",
       "      <td>0.3</td>\n",
       "      <td>1</td>\n",
       "      <td>0</td>\n",
       "      <td>7</td>\n",
       "      <td>Presence</td>\n",
       "      <td>50 - 59</td>\n",
       "      <td>Pre-HTN</td>\n",
       "    </tr>\n",
       "  </tbody>\n",
       "</table>\n",
       "</div>"
      ],
      "text/plain": [
       "   Age  Sex  Chest pain type   BP  Cholesterol  FBS over 120  EKG results  \\\n",
       "0   70    1                4  130          322             0            2   \n",
       "1   67    0                3  115          564             0            2   \n",
       "2   57    1                2  124          261             0            0   \n",
       "\n",
       "   Max HR  Exercise angina  ST depression  Slope of ST  \\\n",
       "0     109                0            2.4            2   \n",
       "1     160                0            1.6            2   \n",
       "2     141                0            0.3            1   \n",
       "\n",
       "   Number of vessels fluro  Thallium Heart Disease Age_Interval      BP_range  \n",
       "0                        3         3      Presence      70 - 79       Pre-HTN  \n",
       "1                        0         7       Absence      60 - 69  Normal Range  \n",
       "2                        0         7      Presence      50 - 59       Pre-HTN  "
      ]
     },
     "execution_count": 24,
     "metadata": {},
     "output_type": "execute_result"
    }
   ],
   "source": [
    "hd.head(3)"
   ]
  },
  {
   "cell_type": "code",
   "execution_count": 25,
   "id": "96d1de38",
   "metadata": {},
   "outputs": [
    {
     "data": {
      "text/plain": [
       "<AxesSubplot:xlabel='BP_range', ylabel='count'>"
      ]
     },
     "execution_count": 25,
     "metadata": {},
     "output_type": "execute_result"
    },
    {
     "data": {
      "image/png": "[encoded data removed]",
      "text/plain": [
       "<Figure size 432x288 with 1 Axes>"
      ]
     },
     "metadata": {
      "needs_background": "light"
     },
     "output_type": "display_data"
    }
   ],
   "source": [
    "sns.countplot(x='BP_range', hue='Heart Disease', data=hd, palette=\"Set2\")"
   ]
  },
  {
   "cell_type": "markdown",
   "id": "ea2fbcfb",
   "metadata": {},
   "source": [
    "### Cholesterol"
   ]
  },
  {
   "cell_type": "code",
   "execution_count": 26,
   "id": "d5b0af31",
   "metadata": {
    "scrolled": false
   },
   "outputs": [
    {
     "data": {
      "text/plain": [
       "<AxesSubplot:xlabel='Cholesterol', ylabel='Heart Disease'>"
      ]
     },
     "execution_count": 26,
     "metadata": {},
     "output_type": "execute_result"
    },
    {
     "data": {
      "image/png": "[encoded data removed]",
      "text/plain": [
       "<Figure size 432x288 with 1 Axes>"
      ]
     },
     "metadata": {
      "needs_background": "light"
     },
     "output_type": "display_data"
    }
   ],
   "source": [
    "sns.scatterplot(x='Cholesterol', y='Heart Disease', data=hd, palette=\"Set2\")"
   ]
  },
  {
   "cell_type": "code",
   "execution_count": 27,
   "id": "d9666098",
   "metadata": {},
   "outputs": [
    {
     "data": {
      "text/html": [
       "<div>\n",
       "<style scoped>\n",
       "    .dataframe tbody tr th:only-of-type {\n",
       "        vertical-align: middle;\n",
       "    }\n",
       "\n",
       "    .dataframe tbody tr th {\n",
       "        vertical-align: top;\n",
       "    }\n",
       "\n",
       "    .dataframe thead th {\n",
       "        text-align: right;\n",
       "    }\n",
       "</style>\n",
       "<table border=\"1\" class=\"dataframe\">\n",
       "  <thead>\n",
       "    <tr style=\"text-align: right;\">\n",
       "      <th></th>\n",
       "      <th>Age</th>\n",
       "      <th>Sex</th>\n",
       "      <th>Chest pain type</th>\n",
       "      <th>BP</th>\n",
       "      <th>Cholesterol</th>\n",
       "      <th>FBS over 120</th>\n",
       "      <th>EKG results</th>\n",
       "      <th>Max HR</th>\n",
       "      <th>Exercise angina</th>\n",
       "      <th>ST depression</th>\n",
       "      <th>Slope of ST</th>\n",
       "      <th>Number of vessels fluro</th>\n",
       "      <th>Thallium</th>\n",
       "      <th>Heart Disease</th>\n",
       "      <th>Age_Interval</th>\n",
       "      <th>BP_range</th>\n",
       "    </tr>\n",
       "  </thead>\n",
       "  <tbody>\n",
       "    <tr>\n",
       "      <th>0</th>\n",
       "      <td>70</td>\n",
       "      <td>1</td>\n",
       "      <td>4</td>\n",
       "      <td>130</td>\n",
       "      <td>322</td>\n",
       "      <td>0</td>\n",
       "      <td>2</td>\n",
       "      <td>109</td>\n",
       "      <td>0</td>\n",
       "      <td>2.4</td>\n",
       "      <td>2</td>\n",
       "      <td>3</td>\n",
       "      <td>3</td>\n",
       "      <td>Presence</td>\n",
       "      <td>70 - 79</td>\n",
       "      <td>Pre-HTN</td>\n",
       "    </tr>\n",
       "    <tr>\n",
       "      <th>1</th>\n",
       "      <td>67</td>\n",
       "      <td>0</td>\n",
       "      <td>3</td>\n",
       "      <td>115</td>\n",
       "      <td>564</td>\n",
       "      <td>0</td>\n",
       "      <td>2</td>\n",
       "      <td>160</td>\n",
       "      <td>0</td>\n",
       "      <td>1.6</td>\n",
       "      <td>2</td>\n",
       "      <td>0</td>\n",
       "      <td>7</td>\n",
       "      <td>Absence</td>\n",
       "      <td>60 - 69</td>\n",
       "      <td>Normal Range</td>\n",
       "    </tr>\n",
       "  </tbody>\n",
       "</table>\n",
       "</div>"
      ],
      "text/plain": [
       "   Age  Sex  Chest pain type   BP  Cholesterol  FBS over 120  EKG results  \\\n",
       "0   70    1                4  130          322             0            2   \n",
       "1   67    0                3  115          564             0            2   \n",
       "\n",
       "   Max HR  Exercise angina  ST depression  Slope of ST  \\\n",
       "0     109                0            2.4            2   \n",
       "1     160                0            1.6            2   \n",
       "\n",
       "   Number of vessels fluro  Thallium Heart Disease Age_Interval      BP_range  \n",
       "0                        3         3      Presence      70 - 79       Pre-HTN  \n",
       "1                        0         7       Absence      60 - 69  Normal Range  "
      ]
     },
     "execution_count": 27,
     "metadata": {},
     "output_type": "execute_result"
    }
   ],
   "source": [
    "hd.head(2)"
   ]
  },
  {
   "cell_type": "code",
   "execution_count": 28,
   "id": "6182872c",
   "metadata": {},
   "outputs": [],
   "source": [
    "def chol_range(chol):\n",
    "    if chol <= 200:\n",
    "        return \"Normal Range\"\n",
    "    else:\n",
    "        return \"Deranged\"\n",
    "    \n",
    "hd['cholesterol_range'] = hd['Cholesterol'].apply(chol_range)"
   ]
  },
  {
   "cell_type": "code",
   "execution_count": 29,
   "id": "db657ac0",
   "metadata": {},
   "outputs": [
    {
     "data": {
      "text/plain": [
       "<AxesSubplot:xlabel='cholesterol_range', ylabel='count'>"
      ]
     },
     "execution_count": 29,
     "metadata": {},
     "output_type": "execute_result"
    },
    {
     "data": {
      "image/png": "[encoded data removed]",
      "text/plain": [
       "<Figure size 432x288 with 1 Axes>"
      ]
     },
     "metadata": {
      "needs_background": "light"
     },
     "output_type": "display_data"
    }
   ],
   "source": [
    "sns.countplot(x='cholesterol_range', hue='Heart Disease', data=hd, palette=\"Set2\")"
   ]
  },
  {
   "cell_type": "markdown",
   "id": "fa31d994",
   "metadata": {},
   "source": [
    "### Fasting Blood Sugar"
   ]
  },
  {
   "cell_type": "code",
   "execution_count": 30,
   "id": "f1fa0345",
   "metadata": {},
   "outputs": [
    {
     "data": {
      "text/plain": [
       "<AxesSubplot:xlabel='FBS over 120', ylabel='count'>"
      ]
     },
     "execution_count": 30,
     "metadata": {},
     "output_type": "execute_result"
    },
    {
     "data": {
      "image/png": "[encoded data removed]",
      "text/plain": [
       "<Figure size 432x288 with 1 Axes>"
      ]
     },
     "metadata": {
      "needs_background": "light"
     },
     "output_type": "display_data"
    }
   ],
   "source": [
    "sns.countplot(x='FBS over 120', hue='Heart Disease', data=hd, palette=\"Set2\")"
   ]
  },
  {
   "cell_type": "markdown",
   "id": "67d3326d",
   "metadata": {},
   "source": [
    "* most patients had FBS lower than 120; higher incident of heart disease among them"
   ]
  },
  {
   "cell_type": "code",
   "execution_count": 31,
   "id": "b6882ab8",
   "metadata": {},
   "outputs": [
    {
     "data": {
      "text/html": [
       "<div>\n",
       "<style scoped>\n",
       "    .dataframe tbody tr th:only-of-type {\n",
       "        vertical-align: middle;\n",
       "    }\n",
       "\n",
       "    .dataframe tbody tr th {\n",
       "        vertical-align: top;\n",
       "    }\n",
       "\n",
       "    .dataframe thead th {\n",
       "        text-align: right;\n",
       "    }\n",
       "</style>\n",
       "<table border=\"1\" class=\"dataframe\">\n",
       "  <thead>\n",
       "    <tr style=\"text-align: right;\">\n",
       "      <th></th>\n",
       "      <th>Age</th>\n",
       "      <th>Sex</th>\n",
       "      <th>Chest pain type</th>\n",
       "      <th>BP</th>\n",
       "      <th>Cholesterol</th>\n",
       "      <th>FBS over 120</th>\n",
       "      <th>EKG results</th>\n",
       "      <th>Max HR</th>\n",
       "      <th>Exercise angina</th>\n",
       "      <th>ST depression</th>\n",
       "      <th>Slope of ST</th>\n",
       "      <th>Number of vessels fluro</th>\n",
       "      <th>Thallium</th>\n",
       "    </tr>\n",
       "  </thead>\n",
       "  <tbody>\n",
       "    <tr>\n",
       "      <th>count</th>\n",
       "      <td>270.000000</td>\n",
       "      <td>270.000000</td>\n",
       "      <td>270.000000</td>\n",
       "      <td>270.000000</td>\n",
       "      <td>270.000000</td>\n",
       "      <td>270.000000</td>\n",
       "      <td>270.000000</td>\n",
       "      <td>270.000000</td>\n",
       "      <td>270.000000</td>\n",
       "      <td>270.00000</td>\n",
       "      <td>270.000000</td>\n",
       "      <td>270.000000</td>\n",
       "      <td>270.000000</td>\n",
       "    </tr>\n",
       "    <tr>\n",
       "      <th>mean</th>\n",
       "      <td>54.433333</td>\n",
       "      <td>0.677778</td>\n",
       "      <td>3.174074</td>\n",
       "      <td>131.344444</td>\n",
       "      <td>249.659259</td>\n",
       "      <td>0.148148</td>\n",
       "      <td>1.022222</td>\n",
       "      <td>149.677778</td>\n",
       "      <td>0.329630</td>\n",
       "      <td>1.05000</td>\n",
       "      <td>1.585185</td>\n",
       "      <td>0.670370</td>\n",
       "      <td>4.696296</td>\n",
       "    </tr>\n",
       "    <tr>\n",
       "      <th>std</th>\n",
       "      <td>9.109067</td>\n",
       "      <td>0.468195</td>\n",
       "      <td>0.950090</td>\n",
       "      <td>17.861608</td>\n",
       "      <td>51.686237</td>\n",
       "      <td>0.355906</td>\n",
       "      <td>0.997891</td>\n",
       "      <td>23.165717</td>\n",
       "      <td>0.470952</td>\n",
       "      <td>1.14521</td>\n",
       "      <td>0.614390</td>\n",
       "      <td>0.943896</td>\n",
       "      <td>1.940659</td>\n",
       "    </tr>\n",
       "    <tr>\n",
       "      <th>min</th>\n",
       "      <td>29.000000</td>\n",
       "      <td>0.000000</td>\n",
       "      <td>1.000000</td>\n",
       "      <td>94.000000</td>\n",
       "      <td>126.000000</td>\n",
       "      <td>0.000000</td>\n",
       "      <td>0.000000</td>\n",
       "      <td>71.000000</td>\n",
       "      <td>0.000000</td>\n",
       "      <td>0.00000</td>\n",
       "      <td>1.000000</td>\n",
       "      <td>0.000000</td>\n",
       "      <td>3.000000</td>\n",
       "    </tr>\n",
       "    <tr>\n",
       "      <th>25%</th>\n",
       "      <td>48.000000</td>\n",
       "      <td>0.000000</td>\n",
       "      <td>3.000000</td>\n",
       "      <td>120.000000</td>\n",
       "      <td>213.000000</td>\n",
       "      <td>0.000000</td>\n",
       "      <td>0.000000</td>\n",
       "      <td>133.000000</td>\n",
       "      <td>0.000000</td>\n",
       "      <td>0.00000</td>\n",
       "      <td>1.000000</td>\n",
       "      <td>0.000000</td>\n",
       "      <td>3.000000</td>\n",
       "    </tr>\n",
       "    <tr>\n",
       "      <th>50%</th>\n",
       "      <td>55.000000</td>\n",
       "      <td>1.000000</td>\n",
       "      <td>3.000000</td>\n",
       "      <td>130.000000</td>\n",
       "      <td>245.000000</td>\n",
       "      <td>0.000000</td>\n",
       "      <td>2.000000</td>\n",
       "      <td>153.500000</td>\n",
       "      <td>0.000000</td>\n",
       "      <td>0.80000</td>\n",
       "      <td>2.000000</td>\n",
       "      <td>0.000000</td>\n",
       "      <td>3.000000</td>\n",
       "    </tr>\n",
       "    <tr>\n",
       "      <th>75%</th>\n",
       "      <td>61.000000</td>\n",
       "      <td>1.000000</td>\n",
       "      <td>4.000000</td>\n",
       "      <td>140.000000</td>\n",
       "      <td>280.000000</td>\n",
       "      <td>0.000000</td>\n",
       "      <td>2.000000</td>\n",
       "      <td>166.000000</td>\n",
       "      <td>1.000000</td>\n",
       "      <td>1.60000</td>\n",
       "      <td>2.000000</td>\n",
       "      <td>1.000000</td>\n",
       "      <td>7.000000</td>\n",
       "    </tr>\n",
       "    <tr>\n",
       "      <th>max</th>\n",
       "      <td>77.000000</td>\n",
       "      <td>1.000000</td>\n",
       "      <td>4.000000</td>\n",
       "      <td>200.000000</td>\n",
       "      <td>564.000000</td>\n",
       "      <td>1.000000</td>\n",
       "      <td>2.000000</td>\n",
       "      <td>202.000000</td>\n",
       "      <td>1.000000</td>\n",
       "      <td>6.20000</td>\n",
       "      <td>3.000000</td>\n",
       "      <td>3.000000</td>\n",
       "      <td>7.000000</td>\n",
       "    </tr>\n",
       "  </tbody>\n",
       "</table>\n",
       "</div>"
      ],
      "text/plain": [
       "              Age         Sex  Chest pain type          BP  Cholesterol  \\\n",
       "count  270.000000  270.000000       270.000000  270.000000   270.000000   \n",
       "mean    54.433333    0.677778         3.174074  131.344444   249.659259   \n",
       "std      9.109067    0.468195         0.950090   17.861608    51.686237   \n",
       "min     29.000000    0.000000         1.000000   94.000000   126.000000   \n",
       "25%     48.000000    0.000000         3.000000  120.000000   213.000000   \n",
       "50%     55.000000    1.000000         3.000000  130.000000   245.000000   \n",
       "75%     61.000000    1.000000         4.000000  140.000000   280.000000   \n",
       "max     77.000000    1.000000         4.000000  200.000000   564.000000   \n",
       "\n",
       "       FBS over 120  EKG results      Max HR  Exercise angina  ST depression  \\\n",
       "count    270.000000   270.000000  270.000000       270.000000      270.00000   \n",
       "mean       0.148148     1.022222  149.677778         0.329630        1.05000   \n",
       "std        0.355906     0.997891   23.165717         0.470952        1.14521   \n",
       "min        0.000000     0.000000   71.000000         0.000000        0.00000   \n",
       "25%        0.000000     0.000000  133.000000         0.000000        0.00000   \n",
       "50%        0.000000     2.000000  153.500000         0.000000        0.80000   \n",
       "75%        0.000000     2.000000  166.000000         1.000000        1.60000   \n",
       "max        1.000000     2.000000  202.000000         1.000000        6.20000   \n",
       "\n",
       "       Slope of ST  Number of vessels fluro    Thallium  \n",
       "count   270.000000               270.000000  270.000000  \n",
       "mean      1.585185                 0.670370    4.696296  \n",
       "std       0.614390                 0.943896    1.940659  \n",
       "min       1.000000                 0.000000    3.000000  \n",
       "25%       1.000000                 0.000000    3.000000  \n",
       "50%       2.000000                 0.000000    3.000000  \n",
       "75%       2.000000                 1.000000    7.000000  \n",
       "max       3.000000                 3.000000    7.000000  "
      ]
     },
     "execution_count": 31,
     "metadata": {},
     "output_type": "execute_result"
    }
   ],
   "source": [
    "hd.describe()"
   ]
  },
  {
   "cell_type": "markdown",
   "id": "dd04e498",
   "metadata": {},
   "source": [
    "# Preprocessing"
   ]
  },
  {
   "cell_type": "code",
   "execution_count": 32,
   "id": "2cf37edb",
   "metadata": {},
   "outputs": [
    {
     "data": {
      "text/html": [
       "<div>\n",
       "<style scoped>\n",
       "    .dataframe tbody tr th:only-of-type {\n",
       "        vertical-align: middle;\n",
       "    }\n",
       "\n",
       "    .dataframe tbody tr th {\n",
       "        vertical-align: top;\n",
       "    }\n",
       "\n",
       "    .dataframe thead th {\n",
       "        text-align: right;\n",
       "    }\n",
       "</style>\n",
       "<table border=\"1\" class=\"dataframe\">\n",
       "  <thead>\n",
       "    <tr style=\"text-align: right;\">\n",
       "      <th></th>\n",
       "      <th>Age</th>\n",
       "      <th>Sex</th>\n",
       "      <th>Chest pain type</th>\n",
       "      <th>BP</th>\n",
       "      <th>Cholesterol</th>\n",
       "      <th>FBS over 120</th>\n",
       "      <th>EKG results</th>\n",
       "      <th>Max HR</th>\n",
       "      <th>Exercise angina</th>\n",
       "      <th>ST depression</th>\n",
       "      <th>Slope of ST</th>\n",
       "      <th>Number of vessels fluro</th>\n",
       "      <th>Thallium</th>\n",
       "      <th>Heart Disease</th>\n",
       "      <th>Age_Interval</th>\n",
       "      <th>BP_range</th>\n",
       "      <th>cholesterol_range</th>\n",
       "    </tr>\n",
       "  </thead>\n",
       "  <tbody>\n",
       "    <tr>\n",
       "      <th>0</th>\n",
       "      <td>70</td>\n",
       "      <td>1</td>\n",
       "      <td>4</td>\n",
       "      <td>130</td>\n",
       "      <td>322</td>\n",
       "      <td>0</td>\n",
       "      <td>2</td>\n",
       "      <td>109</td>\n",
       "      <td>0</td>\n",
       "      <td>2.4</td>\n",
       "      <td>2</td>\n",
       "      <td>3</td>\n",
       "      <td>3</td>\n",
       "      <td>Presence</td>\n",
       "      <td>70 - 79</td>\n",
       "      <td>Pre-HTN</td>\n",
       "      <td>Deranged</td>\n",
       "    </tr>\n",
       "    <tr>\n",
       "      <th>1</th>\n",
       "      <td>67</td>\n",
       "      <td>0</td>\n",
       "      <td>3</td>\n",
       "      <td>115</td>\n",
       "      <td>564</td>\n",
       "      <td>0</td>\n",
       "      <td>2</td>\n",
       "      <td>160</td>\n",
       "      <td>0</td>\n",
       "      <td>1.6</td>\n",
       "      <td>2</td>\n",
       "      <td>0</td>\n",
       "      <td>7</td>\n",
       "      <td>Absence</td>\n",
       "      <td>60 - 69</td>\n",
       "      <td>Normal Range</td>\n",
       "      <td>Deranged</td>\n",
       "    </tr>\n",
       "    <tr>\n",
       "      <th>2</th>\n",
       "      <td>57</td>\n",
       "      <td>1</td>\n",
       "      <td>2</td>\n",
       "      <td>124</td>\n",
       "      <td>261</td>\n",
       "      <td>0</td>\n",
       "      <td>0</td>\n",
       "      <td>141</td>\n",
       "      <td>0</td>\n",
       "      <td>0.3</td>\n",
       "      <td>1</td>\n",
       "      <td>0</td>\n",
       "      <td>7</td>\n",
       "      <td>Presence</td>\n",
       "      <td>50 - 59</td>\n",
       "      <td>Pre-HTN</td>\n",
       "      <td>Deranged</td>\n",
       "    </tr>\n",
       "    <tr>\n",
       "      <th>3</th>\n",
       "      <td>64</td>\n",
       "      <td>1</td>\n",
       "      <td>4</td>\n",
       "      <td>128</td>\n",
       "      <td>263</td>\n",
       "      <td>0</td>\n",
       "      <td>0</td>\n",
       "      <td>105</td>\n",
       "      <td>1</td>\n",
       "      <td>0.2</td>\n",
       "      <td>2</td>\n",
       "      <td>1</td>\n",
       "      <td>7</td>\n",
       "      <td>Absence</td>\n",
       "      <td>60 - 69</td>\n",
       "      <td>Pre-HTN</td>\n",
       "      <td>Deranged</td>\n",
       "    </tr>\n",
       "    <tr>\n",
       "      <th>4</th>\n",
       "      <td>74</td>\n",
       "      <td>0</td>\n",
       "      <td>2</td>\n",
       "      <td>120</td>\n",
       "      <td>269</td>\n",
       "      <td>0</td>\n",
       "      <td>2</td>\n",
       "      <td>121</td>\n",
       "      <td>1</td>\n",
       "      <td>0.2</td>\n",
       "      <td>1</td>\n",
       "      <td>1</td>\n",
       "      <td>3</td>\n",
       "      <td>Absence</td>\n",
       "      <td>70 - 79</td>\n",
       "      <td>Pre-HTN</td>\n",
       "      <td>Deranged</td>\n",
       "    </tr>\n",
       "  </tbody>\n",
       "</table>\n",
       "</div>"
      ],
      "text/plain": [
       "   Age  Sex  Chest pain type   BP  Cholesterol  FBS over 120  EKG results  \\\n",
       "0   70    1                4  130          322             0            2   \n",
       "1   67    0                3  115          564             0            2   \n",
       "2   57    1                2  124          261             0            0   \n",
       "3   64    1                4  128          263             0            0   \n",
       "4   74    0                2  120          269             0            2   \n",
       "\n",
       "   Max HR  Exercise angina  ST depression  Slope of ST  \\\n",
       "0     109                0            2.4            2   \n",
       "1     160                0            1.6            2   \n",
       "2     141                0            0.3            1   \n",
       "3     105                1            0.2            2   \n",
       "4     121                1            0.2            1   \n",
       "\n",
       "   Number of vessels fluro  Thallium Heart Disease Age_Interval      BP_range  \\\n",
       "0                        3         3      Presence      70 - 79       Pre-HTN   \n",
       "1                        0         7       Absence      60 - 69  Normal Range   \n",
       "2                        0         7      Presence      50 - 59       Pre-HTN   \n",
       "3                        1         7       Absence      60 - 69       Pre-HTN   \n",
       "4                        1         3       Absence      70 - 79       Pre-HTN   \n",
       "\n",
       "  cholesterol_range  \n",
       "0          Deranged  \n",
       "1          Deranged  \n",
       "2          Deranged  \n",
       "3          Deranged  \n",
       "4          Deranged  "
      ]
     },
     "execution_count": 32,
     "metadata": {},
     "output_type": "execute_result"
    }
   ],
   "source": [
    "hd.head()"
   ]
  },
  {
   "cell_type": "code",
   "execution_count": 33,
   "id": "bdacf7d9",
   "metadata": {},
   "outputs": [],
   "source": [
    "# encode target/label\n",
    "\n",
    "hd['Heart Disease'] = hd['Heart Disease'].replace('Absence', 0)\n",
    "hd['Heart Disease'] = hd['Heart Disease'].replace('Presence', 1)"
   ]
  },
  {
   "cell_type": "code",
   "execution_count": 34,
   "id": "606a738f",
   "metadata": {},
   "outputs": [
    {
     "data": {
      "text/html": [
       "<div>\n",
       "<style scoped>\n",
       "    .dataframe tbody tr th:only-of-type {\n",
       "        vertical-align: middle;\n",
       "    }\n",
       "\n",
       "    .dataframe tbody tr th {\n",
       "        vertical-align: top;\n",
       "    }\n",
       "\n",
       "    .dataframe thead th {\n",
       "        text-align: right;\n",
       "    }\n",
       "</style>\n",
       "<table border=\"1\" class=\"dataframe\">\n",
       "  <thead>\n",
       "    <tr style=\"text-align: right;\">\n",
       "      <th></th>\n",
       "      <th>Age</th>\n",
       "      <th>Sex</th>\n",
       "      <th>Chest pain type</th>\n",
       "      <th>BP</th>\n",
       "      <th>Cholesterol</th>\n",
       "      <th>FBS over 120</th>\n",
       "      <th>EKG results</th>\n",
       "      <th>Max HR</th>\n",
       "      <th>Exercise angina</th>\n",
       "      <th>ST depression</th>\n",
       "      <th>Slope of ST</th>\n",
       "      <th>Number of vessels fluro</th>\n",
       "      <th>Thallium</th>\n",
       "      <th>Heart Disease</th>\n",
       "      <th>Age_Interval</th>\n",
       "      <th>BP_range</th>\n",
       "      <th>cholesterol_range</th>\n",
       "    </tr>\n",
       "  </thead>\n",
       "  <tbody>\n",
       "    <tr>\n",
       "      <th>0</th>\n",
       "      <td>70</td>\n",
       "      <td>1</td>\n",
       "      <td>4</td>\n",
       "      <td>130</td>\n",
       "      <td>322</td>\n",
       "      <td>0</td>\n",
       "      <td>2</td>\n",
       "      <td>109</td>\n",
       "      <td>0</td>\n",
       "      <td>2.4</td>\n",
       "      <td>2</td>\n",
       "      <td>3</td>\n",
       "      <td>3</td>\n",
       "      <td>1</td>\n",
       "      <td>70 - 79</td>\n",
       "      <td>Pre-HTN</td>\n",
       "      <td>Deranged</td>\n",
       "    </tr>\n",
       "    <tr>\n",
       "      <th>1</th>\n",
       "      <td>67</td>\n",
       "      <td>0</td>\n",
       "      <td>3</td>\n",
       "      <td>115</td>\n",
       "      <td>564</td>\n",
       "      <td>0</td>\n",
       "      <td>2</td>\n",
       "      <td>160</td>\n",
       "      <td>0</td>\n",
       "      <td>1.6</td>\n",
       "      <td>2</td>\n",
       "      <td>0</td>\n",
       "      <td>7</td>\n",
       "      <td>0</td>\n",
       "      <td>60 - 69</td>\n",
       "      <td>Normal Range</td>\n",
       "      <td>Deranged</td>\n",
       "    </tr>\n",
       "  </tbody>\n",
       "</table>\n",
       "</div>"
      ],
      "text/plain": [
       "   Age  Sex  Chest pain type   BP  Cholesterol  FBS over 120  EKG results  \\\n",
       "0   70    1                4  130          322             0            2   \n",
       "1   67    0                3  115          564             0            2   \n",
       "\n",
       "   Max HR  Exercise angina  ST depression  Slope of ST  \\\n",
       "0     109                0            2.4            2   \n",
       "1     160                0            1.6            2   \n",
       "\n",
       "   Number of vessels fluro  Thallium  Heart Disease Age_Interval  \\\n",
       "0                        3         3              1      70 - 79   \n",
       "1                        0         7              0      60 - 69   \n",
       "\n",
       "       BP_range cholesterol_range  \n",
       "0       Pre-HTN          Deranged  \n",
       "1  Normal Range          Deranged  "
      ]
     },
     "execution_count": 34,
     "metadata": {},
     "output_type": "execute_result"
    }
   ],
   "source": [
    "hd.head(2)"
   ]
  },
  {
   "cell_type": "code",
   "execution_count": 35,
   "id": "44cbf3ef",
   "metadata": {},
   "outputs": [],
   "source": [
    "# drop columns not needed"
   ]
  },
  {
   "cell_type": "code",
   "execution_count": 36,
   "id": "5b7f6d90",
   "metadata": {},
   "outputs": [
    {
     "data": {
      "text/plain": [
       "Index(['Age', 'Sex', 'Chest pain type', 'BP', 'Cholesterol', 'FBS over 120',\n",
       "       'EKG results', 'Max HR', 'Exercise angina', 'ST depression',\n",
       "       'Slope of ST', 'Number of vessels fluro', 'Thallium', 'Heart Disease',\n",
       "       'Age_Interval', 'BP_range', 'cholesterol_range'],\n",
       "      dtype='object')"
      ]
     },
     "execution_count": 36,
     "metadata": {},
     "output_type": "execute_result"
    }
   ],
   "source": [
    "hd.columns"
   ]
  },
  {
   "cell_type": "code",
   "execution_count": 37,
   "id": "781a996f",
   "metadata": {},
   "outputs": [
    {
     "name": "stdout",
     "output_type": "stream",
     "text": [
      "Age 41\n",
      "Sex 2\n",
      "Chest pain type 4\n",
      "BP 47\n",
      "Cholesterol 144\n",
      "FBS over 120 2\n",
      "EKG results 3\n",
      "Max HR 90\n",
      "Exercise angina 2\n",
      "ST depression 39\n",
      "Slope of ST 3\n",
      "Number of vessels fluro 4\n",
      "Thallium 3\n",
      "Heart Disease 2\n",
      "Age_Interval 6\n",
      "BP_range 4\n",
      "cholesterol_range 2\n"
     ]
    }
   ],
   "source": [
    "for item in hd.columns:\n",
    "    print(item,len(hd[item].unique()))"
   ]
  },
  {
   "cell_type": "code",
   "execution_count": 38,
   "id": "2a0f5201",
   "metadata": {},
   "outputs": [],
   "source": [
    "hd.drop(['Age_Interval', 'BP_range', 'cholesterol_range'], axis = 1, inplace = True)"
   ]
  },
  {
   "cell_type": "code",
   "execution_count": 39,
   "id": "df791feb",
   "metadata": {
    "scrolled": true
   },
   "outputs": [
    {
     "data": {
      "text/html": [
       "<div>\n",
       "<style scoped>\n",
       "    .dataframe tbody tr th:only-of-type {\n",
       "        vertical-align: middle;\n",
       "    }\n",
       "\n",
       "    .dataframe tbody tr th {\n",
       "        vertical-align: top;\n",
       "    }\n",
       "\n",
       "    .dataframe thead th {\n",
       "        text-align: right;\n",
       "    }\n",
       "</style>\n",
       "<table border=\"1\" class=\"dataframe\">\n",
       "  <thead>\n",
       "    <tr style=\"text-align: right;\">\n",
       "      <th></th>\n",
       "      <th>Age</th>\n",
       "      <th>Sex</th>\n",
       "      <th>Chest pain type</th>\n",
       "      <th>BP</th>\n",
       "      <th>Cholesterol</th>\n",
       "      <th>FBS over 120</th>\n",
       "      <th>EKG results</th>\n",
       "      <th>Max HR</th>\n",
       "      <th>Exercise angina</th>\n",
       "      <th>ST depression</th>\n",
       "      <th>Slope of ST</th>\n",
       "      <th>Number of vessels fluro</th>\n",
       "      <th>Thallium</th>\n",
       "      <th>Heart Disease</th>\n",
       "    </tr>\n",
       "  </thead>\n",
       "  <tbody>\n",
       "    <tr>\n",
       "      <th>0</th>\n",
       "      <td>70</td>\n",
       "      <td>1</td>\n",
       "      <td>4</td>\n",
       "      <td>130</td>\n",
       "      <td>322</td>\n",
       "      <td>0</td>\n",
       "      <td>2</td>\n",
       "      <td>109</td>\n",
       "      <td>0</td>\n",
       "      <td>2.4</td>\n",
       "      <td>2</td>\n",
       "      <td>3</td>\n",
       "      <td>3</td>\n",
       "      <td>1</td>\n",
       "    </tr>\n",
       "    <tr>\n",
       "      <th>1</th>\n",
       "      <td>67</td>\n",
       "      <td>0</td>\n",
       "      <td>3</td>\n",
       "      <td>115</td>\n",
       "      <td>564</td>\n",
       "      <td>0</td>\n",
       "      <td>2</td>\n",
       "      <td>160</td>\n",
       "      <td>0</td>\n",
       "      <td>1.6</td>\n",
       "      <td>2</td>\n",
       "      <td>0</td>\n",
       "      <td>7</td>\n",
       "      <td>0</td>\n",
       "    </tr>\n",
       "    <tr>\n",
       "      <th>2</th>\n",
       "      <td>57</td>\n",
       "      <td>1</td>\n",
       "      <td>2</td>\n",
       "      <td>124</td>\n",
       "      <td>261</td>\n",
       "      <td>0</td>\n",
       "      <td>0</td>\n",
       "      <td>141</td>\n",
       "      <td>0</td>\n",
       "      <td>0.3</td>\n",
       "      <td>1</td>\n",
       "      <td>0</td>\n",
       "      <td>7</td>\n",
       "      <td>1</td>\n",
       "    </tr>\n",
       "  </tbody>\n",
       "</table>\n",
       "</div>"
      ],
      "text/plain": [
       "   Age  Sex  Chest pain type   BP  Cholesterol  FBS over 120  EKG results  \\\n",
       "0   70    1                4  130          322             0            2   \n",
       "1   67    0                3  115          564             0            2   \n",
       "2   57    1                2  124          261             0            0   \n",
       "\n",
       "   Max HR  Exercise angina  ST depression  Slope of ST  \\\n",
       "0     109                0            2.4            2   \n",
       "1     160                0            1.6            2   \n",
       "2     141                0            0.3            1   \n",
       "\n",
       "   Number of vessels fluro  Thallium  Heart Disease  \n",
       "0                        3         3              1  \n",
       "1                        0         7              0  \n",
       "2                        0         7              1  "
      ]
     },
     "execution_count": 39,
     "metadata": {},
     "output_type": "execute_result"
    }
   ],
   "source": [
    "hd.head(3)"
   ]
  },
  {
   "cell_type": "markdown",
   "id": "34e6fa0c",
   "metadata": {},
   "source": [
    "### Assigning x, y variables"
   ]
  },
  {
   "cell_type": "code",
   "execution_count": 40,
   "id": "5219cd43",
   "metadata": {},
   "outputs": [],
   "source": [
    "x = hd.drop('Heart Disease', axis = 1)\n",
    "y = hd['Heart Disease']"
   ]
  },
  {
   "cell_type": "code",
   "execution_count": 41,
   "id": "23fb46a3",
   "metadata": {},
   "outputs": [
    {
     "data": {
      "text/html": [
       "<div>\n",
       "<style scoped>\n",
       "    .dataframe tbody tr th:only-of-type {\n",
       "        vertical-align: middle;\n",
       "    }\n",
       "\n",
       "    .dataframe tbody tr th {\n",
       "        vertical-align: top;\n",
       "    }\n",
       "\n",
       "    .dataframe thead th {\n",
       "        text-align: right;\n",
       "    }\n",
       "</style>\n",
       "<table border=\"1\" class=\"dataframe\">\n",
       "  <thead>\n",
       "    <tr style=\"text-align: right;\">\n",
       "      <th></th>\n",
       "      <th>Age</th>\n",
       "      <th>Sex</th>\n",
       "      <th>Chest pain type</th>\n",
       "      <th>BP</th>\n",
       "      <th>Cholesterol</th>\n",
       "      <th>FBS over 120</th>\n",
       "      <th>EKG results</th>\n",
       "      <th>Max HR</th>\n",
       "      <th>Exercise angina</th>\n",
       "      <th>ST depression</th>\n",
       "      <th>Slope of ST</th>\n",
       "      <th>Number of vessels fluro</th>\n",
       "      <th>Thallium</th>\n",
       "    </tr>\n",
       "  </thead>\n",
       "  <tbody>\n",
       "    <tr>\n",
       "      <th>0</th>\n",
       "      <td>70</td>\n",
       "      <td>1</td>\n",
       "      <td>4</td>\n",
       "      <td>130</td>\n",
       "      <td>322</td>\n",
       "      <td>0</td>\n",
       "      <td>2</td>\n",
       "      <td>109</td>\n",
       "      <td>0</td>\n",
       "      <td>2.4</td>\n",
       "      <td>2</td>\n",
       "      <td>3</td>\n",
       "      <td>3</td>\n",
       "    </tr>\n",
       "    <tr>\n",
       "      <th>1</th>\n",
       "      <td>67</td>\n",
       "      <td>0</td>\n",
       "      <td>3</td>\n",
       "      <td>115</td>\n",
       "      <td>564</td>\n",
       "      <td>0</td>\n",
       "      <td>2</td>\n",
       "      <td>160</td>\n",
       "      <td>0</td>\n",
       "      <td>1.6</td>\n",
       "      <td>2</td>\n",
       "      <td>0</td>\n",
       "      <td>7</td>\n",
       "    </tr>\n",
       "    <tr>\n",
       "      <th>2</th>\n",
       "      <td>57</td>\n",
       "      <td>1</td>\n",
       "      <td>2</td>\n",
       "      <td>124</td>\n",
       "      <td>261</td>\n",
       "      <td>0</td>\n",
       "      <td>0</td>\n",
       "      <td>141</td>\n",
       "      <td>0</td>\n",
       "      <td>0.3</td>\n",
       "      <td>1</td>\n",
       "      <td>0</td>\n",
       "      <td>7</td>\n",
       "    </tr>\n",
       "  </tbody>\n",
       "</table>\n",
       "</div>"
      ],
      "text/plain": [
       "   Age  Sex  Chest pain type   BP  Cholesterol  FBS over 120  EKG results  \\\n",
       "0   70    1                4  130          322             0            2   \n",
       "1   67    0                3  115          564             0            2   \n",
       "2   57    1                2  124          261             0            0   \n",
       "\n",
       "   Max HR  Exercise angina  ST depression  Slope of ST  \\\n",
       "0     109                0            2.4            2   \n",
       "1     160                0            1.6            2   \n",
       "2     141                0            0.3            1   \n",
       "\n",
       "   Number of vessels fluro  Thallium  \n",
       "0                        3         3  \n",
       "1                        0         7  \n",
       "2                        0         7  "
      ]
     },
     "execution_count": 41,
     "metadata": {},
     "output_type": "execute_result"
    }
   ],
   "source": [
    "x.head(3)"
   ]
  },
  {
   "cell_type": "code",
   "execution_count": 42,
   "id": "c2ac111e",
   "metadata": {},
   "outputs": [
    {
     "data": {
      "text/plain": [
       "0    1\n",
       "1    0\n",
       "2    1\n",
       "Name: Heart Disease, dtype: int64"
      ]
     },
     "execution_count": 42,
     "metadata": {},
     "output_type": "execute_result"
    }
   ],
   "source": [
    "y.head(3)"
   ]
  },
  {
   "cell_type": "markdown",
   "id": "5559ca96",
   "metadata": {},
   "source": [
    "### Data Splitting 80:20"
   ]
  },
  {
   "cell_type": "code",
   "execution_count": 43,
   "id": "a8c93158",
   "metadata": {},
   "outputs": [],
   "source": [
    "x_train, x_test, y_train, y_test = train_test_split(x, y, test_size=0.2, random_state=101)"
   ]
  },
  {
   "cell_type": "markdown",
   "id": "a59ea6e0",
   "metadata": {},
   "source": [
    "### Scaling"
   ]
  },
  {
   "cell_type": "code",
   "execution_count": 44,
   "id": "3c831591",
   "metadata": {},
   "outputs": [
    {
     "data": {
      "text/plain": [
       "array([[-1.71694344,  0.66332496,  0.85749293, ...,  0.68616115,\n",
       "        -0.70710678,  1.15321806],\n",
       "       [ 1.07651681, -1.50755672,  0.85749293, ..., -0.99805258,\n",
       "        -0.70710678, -0.90541914],\n",
       "       [ 0.18260953, -1.50755672,  0.85749293, ...,  2.37037487,\n",
       "         1.41421356,  1.15321806],\n",
       "       ...,\n",
       "       [ 0.51782476,  0.66332496, -2.22948161, ...,  2.37037487,\n",
       "        -0.70710678,  1.15321806],\n",
       "       [ 0.62956317, -1.50755672, -2.22948161, ..., -0.99805258,\n",
       "        -0.70710678, -0.90541914],\n",
       "       [-0.1526057 ,  0.66332496,  0.85749293, ..., -0.99805258,\n",
       "        -0.70710678,  1.15321806]])"
      ]
     },
     "execution_count": 44,
     "metadata": {},
     "output_type": "execute_result"
    }
   ],
   "source": [
    "scaler = StandardScaler()\n",
    "x_train_scaled = scaler.fit_transform(x_train)\n",
    "x_test_scaled = scaler.transform(x_test)\n",
    "x_train_scaled"
   ]
  },
  {
   "cell_type": "markdown",
   "id": "4d2e6e44",
   "metadata": {},
   "source": [
    "### Logistic Regression (with non-scaled data)"
   ]
  },
  {
   "cell_type": "code",
   "execution_count": 57,
   "id": "1adc63a6",
   "metadata": {},
   "outputs": [
    {
     "name": "stdout",
     "output_type": "stream",
     "text": [
      "0.8796296296296297\n",
      "0.8148148148148148\n"
     ]
    },
    {
     "data": {
      "text/plain": [
       "0.8148148148148148"
      ]
     },
     "execution_count": 57,
     "metadata": {},
     "output_type": "execute_result"
    }
   ],
   "source": [
    "# create an object for the algorithm\n",
    "\n",
    "lr = LogisticRegression()\n",
    "\n",
    "# train the algorithm\n",
    "lr.fit(x_train, y_train)\n",
    "\n",
    "pred = lr.predict(x_test)\n",
    "\n",
    "# check accuracy of training algorithm with train data\n",
    "\n",
    "print(lr.score(x_train, y_train))\n",
    "print(lr.score(x_test, y_test))\n",
    "accuracy_score(y_test, pred)"
   ]
  },
  {
   "cell_type": "markdown",
   "id": "1de4e7d0",
   "metadata": {},
   "source": [
    "### Logistic Regression (with scaled data)"
   ]
  },
  {
   "cell_type": "code",
   "execution_count": 46,
   "id": "bc8d336c",
   "metadata": {},
   "outputs": [
    {
     "name": "stdout",
     "output_type": "stream",
     "text": [
      "Accuracy of trained data is: 0.8657407407407407\n",
      "Accuracy of test data is: 0.8333333333333334\n",
      "Classification Report\n",
      "              precision    recall  f1-score   support\n",
      "\n",
      "           0       0.84      0.87      0.85        30\n",
      "           1       0.83      0.79      0.81        24\n",
      "\n",
      "    accuracy                           0.83        54\n",
      "   macro avg       0.83      0.83      0.83        54\n",
      "weighted avg       0.83      0.83      0.83        54\n",
      "\n",
      "Confusion Matrix\n",
      "[[26  4]\n",
      " [ 5 19]]\n"
     ]
    }
   ],
   "source": [
    "# create an object for the algorithm\n",
    "\n",
    "scaled_lr = LogisticRegression()\n",
    "\n",
    "# train the algorithm\n",
    "scaled_lr.fit(x_train_scaled, y_train)\n",
    "\n",
    "lr_scaled_prediction = scaled_lr.predict(x_test_scaled)\n",
    "\n",
    "\n",
    "# check accuracy of training algorithm with train  and test data\n",
    "\n",
    "print(f\"Accuracy of trained data is: {scaled_lr.score(x_train_scaled, y_train)}\")\n",
    "print(f\"Accuracy of test data is: {scaled_lr.score(x_test_scaled, y_test)}\")\n",
    "print(\"Classification Report\")\n",
    "print(metrics.classification_report(y_test, lr_scaled_prediction))\n",
    "print(\"Confusion Matrix\")\n",
    "print(metrics.confusion_matrix(y_test, lr_scaled_prediction))"
   ]
  },
  {
   "cell_type": "markdown",
   "id": "ee37e4fe",
   "metadata": {},
   "source": [
    "* Scaled data performed better (than non scaled) with less overfitting; proceed with scaled data"
   ]
  },
  {
   "cell_type": "markdown",
   "id": "56b8a00b",
   "metadata": {},
   "source": [
    "### Random Forest"
   ]
  },
  {
   "cell_type": "code",
   "execution_count": 47,
   "id": "25bdc7c4",
   "metadata": {},
   "outputs": [
    {
     "name": "stdout",
     "output_type": "stream",
     "text": [
      "1.0\n",
      "0.8148148148148148\n",
      "              precision    recall  f1-score   support\n",
      "\n",
      "           0       0.79      0.90      0.84        30\n",
      "           1       0.85      0.71      0.77        24\n",
      "\n",
      "    accuracy                           0.81        54\n",
      "   macro avg       0.82      0.80      0.81        54\n",
      "weighted avg       0.82      0.81      0.81        54\n",
      "\n",
      "[[27  3]\n",
      " [ 7 17]]\n"
     ]
    }
   ],
   "source": [
    "# create an object for the model\n",
    "rf = RandomForestClassifier()\n",
    "\n",
    "#train model\n",
    "rf.fit(x_train_scaled, y_train)\n",
    "\n",
    "rf_prediction = rf.predict(x_test_scaled)\n",
    "\n",
    "# evaluate prediction\n",
    "print(rf.score(x_train_scaled, y_train))\n",
    "print(rf.score(x_test_scaled, y_test))\n",
    "\n",
    "print(metrics.classification_report(y_test, rf_prediction))\n",
    "\n",
    "print(metrics.confusion_matrix(y_test, rf_prediction))"
   ]
  },
  {
   "cell_type": "markdown",
   "id": "5b771870",
   "metadata": {},
   "source": [
    "* more overfitting with random forest here"
   ]
  },
  {
   "cell_type": "markdown",
   "id": "de0fa79b",
   "metadata": {},
   "source": [
    "### Decision Tree Classifier"
   ]
  },
  {
   "cell_type": "code",
   "execution_count": 48,
   "id": "3986ad3d",
   "metadata": {},
   "outputs": [
    {
     "name": "stdout",
     "output_type": "stream",
     "text": [
      "1.0\n",
      "0.7777777777777778\n",
      "              precision    recall  f1-score   support\n",
      "\n",
      "           0       0.76      0.87      0.81        30\n",
      "           1       0.80      0.67      0.73        24\n",
      "\n",
      "    accuracy                           0.78        54\n",
      "   macro avg       0.78      0.77      0.77        54\n",
      "weighted avg       0.78      0.78      0.77        54\n",
      "\n",
      "[[26  4]\n",
      " [ 8 16]]\n"
     ]
    }
   ],
   "source": [
    "# create an object for the algorithm\n",
    "dt = DecisionTreeClassifier()\n",
    "\n",
    "# train algorithm\n",
    "dt.fit(x_train_scaled, y_train)\n",
    "\n",
    "dt_prediction = dt.predict(x_test_scaled)\n",
    "\n",
    "# evaluate prediction\n",
    "print(dt.score(x_train_scaled, y_train))\n",
    "print(dt.score(x_test_scaled, y_test))\n",
    "\n",
    "print(metrics.classification_report(y_test, dt_prediction))\n",
    "\n",
    "print(metrics.confusion_matrix(y_test, dt_prediction))"
   ]
  },
  {
   "cell_type": "markdown",
   "id": "d91ec64f",
   "metadata": {},
   "source": [
    "### XGBoost"
   ]
  },
  {
   "cell_type": "code",
   "execution_count": 49,
   "id": "048b74da",
   "metadata": {},
   "outputs": [
    {
     "name": "stdout",
     "output_type": "stream",
     "text": [
      "1.0\n",
      "0.8333333333333334\n",
      "              precision    recall  f1-score   support\n",
      "\n",
      "           0       0.82      0.90      0.86        30\n",
      "           1       0.86      0.75      0.80        24\n",
      "\n",
      "    accuracy                           0.83        54\n",
      "   macro avg       0.84      0.82      0.83        54\n",
      "weighted avg       0.84      0.83      0.83        54\n",
      "\n",
      "[[27  3]\n",
      " [ 6 18]]\n"
     ]
    }
   ],
   "source": [
    "# create an object for the algorithm\n",
    "xgb = XGBClassifier()\n",
    "\n",
    "# train algorithm\n",
    "xgb.fit(x_train_scaled, y_train)\n",
    "\n",
    "xgb_pred = xgb.predict(x_test_scaled)\n",
    "\n",
    "# evaluate prediction\n",
    "print(xgb.score(x_train_scaled, y_train))\n",
    "print(xgb.score(x_test_scaled, y_test))\n",
    "\n",
    "print(metrics.classification_report(y_test, xgb_pred))\n",
    "\n",
    "print(metrics.confusion_matrix(y_test, xgb_pred))"
   ]
  },
  {
   "cell_type": "markdown",
   "id": "aba6503f",
   "metadata": {},
   "source": [
    "### SVM"
   ]
  },
  {
   "cell_type": "code",
   "execution_count": 53,
   "id": "63e0e9ad",
   "metadata": {
    "scrolled": false
   },
   "outputs": [
    {
     "name": "stdout",
     "output_type": "stream",
     "text": [
      "0.9351851851851852\n",
      "0.8148148148148148\n",
      "              precision    recall  f1-score   support\n",
      "\n",
      "           0       0.81      0.87      0.84        30\n",
      "           1       0.82      0.75      0.78        24\n",
      "\n",
      "    accuracy                           0.81        54\n",
      "   macro avg       0.82      0.81      0.81        54\n",
      "weighted avg       0.82      0.81      0.81        54\n",
      "\n",
      "[[26  4]\n",
      " [ 6 18]]\n"
     ]
    }
   ],
   "source": [
    "# create an object for the algorithm\n",
    "svm = SVC()\n",
    "\n",
    "# train algorithm\n",
    "svm.fit(x_train_scaled, y_train)\n",
    "\n",
    "svm_pred = svm.predict(x_test_scaled)\n",
    "\n",
    "# evaluate prediction\n",
    "print(svm.score(x_train_scaled, y_train))\n",
    "print(svm.score(x_test_scaled, y_test))\n",
    "print(metrics.classification_report(y_test, svm_pred))\n",
    "print(metrics.confusion_matrix(y_test, svm_pred))"
   ]
  },
  {
   "cell_type": "markdown",
   "id": "0c339add",
   "metadata": {},
   "source": [
    "### roc_auc"
   ]
  },
  {
   "cell_type": "code",
   "execution_count": 51,
   "id": "d543a9c2",
   "metadata": {},
   "outputs": [
    {
     "name": "stdout",
     "output_type": "stream",
     "text": [
      "Requirement already satisfied: xgboost in /Users/joanneosuchukwu/opt/anaconda3/lib/python3.9/site-packages (1.6.1)\n",
      "Requirement already satisfied: numpy in /Users/joanneosuchukwu/opt/anaconda3/lib/python3.9/site-packages (from xgboost) (1.20.3)\n",
      "Requirement already satisfied: scipy in /Users/joanneosuchukwu/opt/anaconda3/lib/python3.9/site-packages (from xgboost) (1.7.1)\n",
      "Note: you may need to restart the kernel to use updated packages.\n"
     ]
    }
   ],
   "source": [
    "pip install xgboost"
   ]
  },
  {
   "cell_type": "code",
   "execution_count": 52,
   "id": "d146c24a",
   "metadata": {},
   "outputs": [
    {
     "name": "stdout",
     "output_type": "stream",
     "text": [
      "RF: 0.9138157894736842, 0.018051855813383096\n",
      "XGB: 0.8958552631578947, 0.026621072806894283\n",
      "LR: 0.8988377192982456, 0.029220830857223355\n",
      "DT: 0.7059210526315789, 0.05231263007156699\n",
      "SVM: 0.7203508771929824, 0.055476891059921186\n"
     ]
    }
   ],
   "source": [
    "models = []\n",
    "results = []\n",
    "names = []\n",
    "\n",
    "scoring = 'roc_auc'\n",
    "\n",
    "# append alogorithm and names to list\n",
    "models.append(('RF', RandomForestClassifier()))\n",
    "models.append(('XGB', XGBClassifier()))\n",
    "models.append(('LR', LogisticRegression()))\n",
    "models.append(('DT', DecisionTreeClassifier()))\n",
    "models.append(('SVM', SVC()))\n",
    "\n",
    "\n",
    "# iterate over algorithms\n",
    "for name, model in models:\n",
    "    kfold = StratifiedKFold(n_splits=5, shuffle=True, random_state=101) # create kfold\n",
    "    cv_score = cross_val_score(model, x_train, y_train, scoring=scoring, cv=kfold) # get cross validation score with estimators\n",
    "    results.append(cv_score) # append cv_score in empty list\n",
    "    names.append(name) # append name in empty list\n",
    "    \n",
    "    print(f\"{name}: {cv_score.mean()}, {cv_score.std()}\")"
   ]
  },
  {
   "cell_type": "markdown",
   "id": "fd111046",
   "metadata": {},
   "source": [
    "## SUMMARY PLOTS"
   ]
  },
  {
   "cell_type": "markdown",
   "id": "4984d96e",
   "metadata": {},
   "source": [
    "### cv_score.mean"
   ]
  },
  {
   "cell_type": "code",
   "execution_count": 95,
   "id": "5e94bc43",
   "metadata": {
    "scrolled": true
   },
   "outputs": [
    {
     "data": {
      "text/plain": [
       "Text(0, 0.5, 'cv_score.mean')"
      ]
     },
     "execution_count": 95,
     "metadata": {},
     "output_type": "execute_result"
    },
    {
     "data": {
      "image/png": "[encoded data removed]",
      "text/plain": [
       "<Figure size 864x432 with 1 Axes>"
      ]
     },
     "metadata": {
      "needs_background": "light"
     },
     "output_type": "display_data"
    }
   ],
   "source": [
    "plt.figure(figsize=(12,6))\n",
    "plt.bar(\"Logistic Regression\", 0.8988377192982456, width=0.5, color=\"#798A56\")\n",
    "plt.bar(\"RandomForestClassifier\", 0.9138157894736842, width=0.5, color=\"#798A56\")\n",
    "plt.bar(\"XGBoost\", 0.8958552631578947, width=0.5, color=\"#798A56\")\n",
    "plt.bar(\"DecisionTreeClassifier\", 0.7059210526315789, width=0.5, color=\"#798A56\")\n",
    "plt.bar(\"SVM\", 0.7203508771929824, width=0.5, color=\"#798A56\")\n",
    "plt.xlabel('Machine Learning Algorithm')\n",
    "plt.ylabel('cv_score.mean')"
   ]
  },
  {
   "cell_type": "markdown",
   "id": "150c9b91",
   "metadata": {},
   "source": [
    "### cv_score.std"
   ]
  },
  {
   "cell_type": "code",
   "execution_count": 99,
   "id": "f16e5d13",
   "metadata": {
    "scrolled": false
   },
   "outputs": [
    {
     "data": {
      "text/plain": [
       "Text(0, 0.5, 'cv_score.std')"
      ]
     },
     "execution_count": 99,
     "metadata": {},
     "output_type": "execute_result"
    },
    {
     "data": {
      "image/png": "[encoded data removed]",
      "text/plain": [
       "<Figure size 864x432 with 1 Axes>"
      ]
     },
     "metadata": {
      "needs_background": "light"
     },
     "output_type": "display_data"
    }
   ],
   "source": [
    "plt.figure(figsize=(12,6))\n",
    "plt.bar(\"Logistic Regression\", 0.029220830857223355, width=0.5, color=\"#E05995\")\n",
    "plt.bar(\"RandomForestClassifier\", 0.018051855813383096, width=0.5, color=\"#E05995\")\n",
    "plt.bar(\"XGBoost\", 0.026621072806894283, width=0.5, color=\"#E05995\")\n",
    "plt.bar(\"DecisionTreeClassifier\", 0.05231263007156699, width=0.5, color=\"#E05995\")\n",
    "plt.bar(\"SVM\", 0.055476891059921186, width=0.5, color=\"#E05995\")\n",
    "plt.xlabel('Machine Learning Algorithm')\n",
    "plt.ylabel('cv_score.std')"
   ]
  },
  {
   "cell_type": "markdown",
   "id": "09301e21",
   "metadata": {},
   "source": [
    "### Accuracy "
   ]
  },
  {
   "cell_type": "code",
   "execution_count": 100,
   "id": "03493f9b",
   "metadata": {
    "scrolled": true
   },
   "outputs": [
    {
     "data": {
      "text/plain": [
       "Text(0, 0.5, 'Accuracy')"
      ]
     },
     "execution_count": 100,
     "metadata": {},
     "output_type": "execute_result"
    },
    {
     "data": {
      "image/png": "[encoded data removed]",
      "text/plain": [
       "<Figure size 864x432 with 1 Axes>"
      ]
     },
     "metadata": {
      "needs_background": "light"
     },
     "output_type": "display_data"
    }
   ],
   "source": [
    "plt.figure(figsize=(12,6))\n",
    "plt.bar(\"Logistic Regression\", lr.score(x_test, y_test), width=0.5, color=\"#8DACCE\")\n",
    "plt.bar(\"RandomForestClassifier\", rf.score(x_test_scaled, y_test), width=0.5, color=\"#8DACCE\")\n",
    "plt.bar(\"XGBoost\", xgb.score(x_test_scaled, y_test), width=0.5, color=\"#8DACCE\")\n",
    "plt.bar(\"DecisionTreeClassifier\", dt.score(x_test_scaled, y_test), width=0.5, color=\"#8DACCE\")\n",
    "plt.bar(\"SVM\", svm.score(x_test_scaled, y_test), width=0.5, color=\"#8DACCE\")\n",
    "plt.xlabel('Machine Learning Algorithm')\n",
    "plt.ylabel('Accuracy')"
   ]
  },
  {
   "cell_type": "markdown",
   "id": "c61d0c81",
   "metadata": {},
   "source": [
    "## Single Prediction"
   ]
  },
  {
   "cell_type": "code",
   "execution_count": 66,
   "id": "f6e3b891",
   "metadata": {},
   "outputs": [
    {
     "data": {
      "text/html": [
       "<div>\n",
       "<style scoped>\n",
       "    .dataframe tbody tr th:only-of-type {\n",
       "        vertical-align: middle;\n",
       "    }\n",
       "\n",
       "    .dataframe tbody tr th {\n",
       "        vertical-align: top;\n",
       "    }\n",
       "\n",
       "    .dataframe thead th {\n",
       "        text-align: right;\n",
       "    }\n",
       "</style>\n",
       "<table border=\"1\" class=\"dataframe\">\n",
       "  <thead>\n",
       "    <tr style=\"text-align: right;\">\n",
       "      <th></th>\n",
       "      <th>Age</th>\n",
       "      <th>Sex</th>\n",
       "      <th>Chest pain type</th>\n",
       "      <th>BP</th>\n",
       "      <th>Cholesterol</th>\n",
       "      <th>FBS over 120</th>\n",
       "      <th>EKG results</th>\n",
       "      <th>Max HR</th>\n",
       "      <th>Exercise angina</th>\n",
       "      <th>ST depression</th>\n",
       "      <th>Slope of ST</th>\n",
       "      <th>Number of vessels fluro</th>\n",
       "      <th>Thallium</th>\n",
       "      <th>Heart Disease</th>\n",
       "    </tr>\n",
       "  </thead>\n",
       "  <tbody>\n",
       "    <tr>\n",
       "      <th>0</th>\n",
       "      <td>70</td>\n",
       "      <td>1</td>\n",
       "      <td>4</td>\n",
       "      <td>130</td>\n",
       "      <td>322</td>\n",
       "      <td>0</td>\n",
       "      <td>2</td>\n",
       "      <td>109</td>\n",
       "      <td>0</td>\n",
       "      <td>2.4</td>\n",
       "      <td>2</td>\n",
       "      <td>3</td>\n",
       "      <td>3</td>\n",
       "      <td>1</td>\n",
       "    </tr>\n",
       "    <tr>\n",
       "      <th>1</th>\n",
       "      <td>67</td>\n",
       "      <td>0</td>\n",
       "      <td>3</td>\n",
       "      <td>115</td>\n",
       "      <td>564</td>\n",
       "      <td>0</td>\n",
       "      <td>2</td>\n",
       "      <td>160</td>\n",
       "      <td>0</td>\n",
       "      <td>1.6</td>\n",
       "      <td>2</td>\n",
       "      <td>0</td>\n",
       "      <td>7</td>\n",
       "      <td>0</td>\n",
       "    </tr>\n",
       "    <tr>\n",
       "      <th>2</th>\n",
       "      <td>57</td>\n",
       "      <td>1</td>\n",
       "      <td>2</td>\n",
       "      <td>124</td>\n",
       "      <td>261</td>\n",
       "      <td>0</td>\n",
       "      <td>0</td>\n",
       "      <td>141</td>\n",
       "      <td>0</td>\n",
       "      <td>0.3</td>\n",
       "      <td>1</td>\n",
       "      <td>0</td>\n",
       "      <td>7</td>\n",
       "      <td>1</td>\n",
       "    </tr>\n",
       "  </tbody>\n",
       "</table>\n",
       "</div>"
      ],
      "text/plain": [
       "   Age  Sex  Chest pain type   BP  Cholesterol  FBS over 120  EKG results  \\\n",
       "0   70    1                4  130          322             0            2   \n",
       "1   67    0                3  115          564             0            2   \n",
       "2   57    1                2  124          261             0            0   \n",
       "\n",
       "   Max HR  Exercise angina  ST depression  Slope of ST  \\\n",
       "0     109                0            2.4            2   \n",
       "1     160                0            1.6            2   \n",
       "2     141                0            0.3            1   \n",
       "\n",
       "   Number of vessels fluro  Thallium  Heart Disease  \n",
       "0                        3         3              1  \n",
       "1                        0         7              0  \n",
       "2                        0         7              1  "
      ]
     },
     "execution_count": 66,
     "metadata": {},
     "output_type": "execute_result"
    }
   ],
   "source": [
    "hd.head(3)"
   ]
  },
  {
   "cell_type": "code",
   "execution_count": 65,
   "id": "d5c5672b",
   "metadata": {
    "scrolled": true
   },
   "outputs": [
    {
     "data": {
      "text/plain": [
       "Index(['Age', 'Sex', 'Chest pain type', 'BP', 'Cholesterol', 'FBS over 120',\n",
       "       'EKG results', 'Max HR', 'Exercise angina', 'ST depression',\n",
       "       'Slope of ST', 'Number of vessels fluro', 'Thallium', 'Heart Disease'],\n",
       "      dtype='object')"
      ]
     },
     "execution_count": 65,
     "metadata": {},
     "output_type": "execute_result"
    }
   ],
   "source": [
    "hd.columns"
   ]
  },
  {
   "cell_type": "markdown",
   "id": "d62c29ec",
   "metadata": {},
   "source": [
    "### Age = 30, Sex = 0, Chest pain type = 4, BP = 120, Cholesterol = 180, FBS over 120 = 0, EKG = 1, Max HR = 100, Exercise angina = 0, ST depression = 1.6, Slope of ST = 1, Number of vessels fluoro = 0, Thalium = 3"
   ]
  },
  {
   "cell_type": "code",
   "execution_count": 146,
   "id": "a17a44d3",
   "metadata": {},
   "outputs": [],
   "source": [
    "# xgb has higher precision\n",
    "result1 = xgb.predict(scaler.transform([[30,0,4,120,180,120,1,100,0,1.6,1,0,3]]))"
   ]
  },
  {
   "cell_type": "code",
   "execution_count": 145,
   "id": "9a1d117c",
   "metadata": {},
   "outputs": [
    {
     "name": "stdout",
     "output_type": "stream",
     "text": [
      "Predicts no heart disease\n"
     ]
    }
   ],
   "source": [
    "if result1 == [0]:\n",
    "    print('Predicts no heart disease')\n",
    "else:\n",
    "    print('Predicts heart disease')"
   ]
  },
  {
   "cell_type": "code",
   "execution_count": null,
   "id": "6feab216",
   "metadata": {},
   "outputs": [],
   "source": []
  }
 ],
 "metadata": {
  "kernelspec": {
   "display_name": "Python 3 (ipykernel)",
   "language": "python",
   "name": "python3"
  },
  "language_info": {
   "codemirror_mode": {
    "name": "ipython",
    "version": 3
   },
   "file_extension": ".py",
   "mimetype": "text/x-python",
   "name": "python",
   "nbconvert_exporter": "python",
   "pygments_lexer": "ipython3",
   "version": "3.9.7"
  }
 },
 "nbformat": 4,
 "nbformat_minor": 5
}
