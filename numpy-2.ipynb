{
 "cells": [
  {
   "cell_type": "markdown",
   "id": "2d4cf10f",
   "metadata": {},
   "source": [
    "### Numpy - Numerical Python"
   ]
  },
  {
   "cell_type": "markdown",
   "id": "8fe5a5cf",
   "metadata": {},
   "source": [
    "Numpy is a package"
   ]
  },
  {
   "cell_type": "code",
   "execution_count": 2,
   "id": "967b3826",
   "metadata": {},
   "outputs": [
    {
     "name": "stdout",
     "output_type": "stream",
     "text": [
      "Requirement already satisfied: numpy in /Users/joanneosuchukwu/opt/anaconda3/lib/python3.9/site-packages (1.20.3)\n",
      "Note: you may need to restart the kernel to use updated packages.\n"
     ]
    }
   ],
   "source": [
    "pip install numpy"
   ]
  },
  {
   "cell_type": "code",
   "execution_count": 2,
   "id": "7739b3ba",
   "metadata": {},
   "outputs": [],
   "source": [
    "#load library\n",
    "import numpy as np"
   ]
  },
  {
   "cell_type": "markdown",
   "id": "95794d54",
   "metadata": {},
   "source": [
    "#### the functional unit of numpy is an array\n",
    "#### and an array is created from a list"
   ]
  },
  {
   "cell_type": "code",
   "execution_count": 6,
   "id": "7b0bfc74",
   "metadata": {},
   "outputs": [],
   "source": [
    "lst = [1, 2, 3, 4, 5]"
   ]
  },
  {
   "cell_type": "code",
   "execution_count": 7,
   "id": "571e9356",
   "metadata": {},
   "outputs": [],
   "source": [
    "#creat a numpy array\n",
    "lst_arr = np.array(lst)"
   ]
  },
  {
   "cell_type": "code",
   "execution_count": 10,
   "id": "5eadaea4",
   "metadata": {},
   "outputs": [
    {
     "data": {
      "text/plain": [
       "array([1, 2, 3, 4, 5])"
      ]
     },
     "execution_count": 10,
     "metadata": {},
     "output_type": "execute_result"
    }
   ],
   "source": [
    "lst_arr"
   ]
  },
  {
   "cell_type": "code",
   "execution_count": 9,
   "id": "0a82108f",
   "metadata": {},
   "outputs": [
    {
     "data": {
      "text/plain": [
       "numpy.ndarray"
      ]
     },
     "execution_count": 9,
     "metadata": {},
     "output_type": "execute_result"
    }
   ],
   "source": [
    "type(lst_arr)"
   ]
  },
  {
   "cell_type": "markdown",
   "id": "1868f341",
   "metadata": {},
   "source": [
    "#### one dimensional array is called a vector, while a two_dimensional array is called a matrix"
   ]
  },
  {
   "cell_type": "markdown",
   "id": "17094ea1",
   "metadata": {},
   "source": [
    "one dimensional lists are created from lists, 2-d is created from nested lists"
   ]
  },
  {
   "cell_type": "code",
   "execution_count": 12,
   "id": "8921658e",
   "metadata": {},
   "outputs": [],
   "source": [
    "nst = [[1, 2, 3], [5, 6, 7]]"
   ]
  },
  {
   "cell_type": "code",
   "execution_count": 13,
   "id": "b966297f",
   "metadata": {},
   "outputs": [],
   "source": [
    "# create a 2d-array\n",
    "nst_arr = np.array(nst)"
   ]
  },
  {
   "cell_type": "code",
   "execution_count": 14,
   "id": "3449668a",
   "metadata": {},
   "outputs": [
    {
     "data": {
      "text/plain": [
       "array([[1, 2, 3],\n",
       "       [5, 6, 7]])"
      ]
     },
     "execution_count": 14,
     "metadata": {},
     "output_type": "execute_result"
    }
   ],
   "source": [
    "nst_arr"
   ]
  },
  {
   "cell_type": "code",
   "execution_count": 15,
   "id": "efe125c3",
   "metadata": {},
   "outputs": [
    {
     "data": {
      "text/plain": [
       "array([[1, 2, 3, 4, 5]])"
      ]
     },
     "execution_count": 15,
     "metadata": {},
     "output_type": "execute_result"
    }
   ],
   "source": [
    "lst_arr.reshape(1,5)"
   ]
  },
  {
   "cell_type": "code",
   "execution_count": 16,
   "id": "772462a6",
   "metadata": {},
   "outputs": [
    {
     "data": {
      "text/plain": [
       "(5,)"
      ]
     },
     "execution_count": 16,
     "metadata": {},
     "output_type": "execute_result"
    }
   ],
   "source": [
    "lst_arr.shape"
   ]
  },
  {
   "cell_type": "code",
   "execution_count": 18,
   "id": "5ba32755",
   "metadata": {},
   "outputs": [
    {
     "data": {
      "text/plain": [
       "(2, 3)"
      ]
     },
     "execution_count": 18,
     "metadata": {},
     "output_type": "execute_result"
    }
   ],
   "source": [
    "nst_arr.shape"
   ]
  },
  {
   "cell_type": "code",
   "execution_count": 19,
   "id": "ba95b8d1",
   "metadata": {},
   "outputs": [
    {
     "data": {
      "text/plain": [
       "(1, 5)"
      ]
     },
     "execution_count": 19,
     "metadata": {},
     "output_type": "execute_result"
    }
   ],
   "source": [
    "lst_arr.reshape(1,5).shape"
   ]
  },
  {
   "cell_type": "code",
   "execution_count": 20,
   "id": "469560f6",
   "metadata": {},
   "outputs": [
    {
     "data": {
      "text/plain": [
       "array([1, 2, 3, 4, 5])"
      ]
     },
     "execution_count": 20,
     "metadata": {},
     "output_type": "execute_result"
    }
   ],
   "source": [
    "lst_arr"
   ]
  },
  {
   "cell_type": "code",
   "execution_count": 35,
   "id": "296ef5c8",
   "metadata": {},
   "outputs": [],
   "source": [
    "tes = np.array([5, 10, 15, 20, 25])"
   ]
  },
  {
   "cell_type": "code",
   "execution_count": 36,
   "id": "831defb8",
   "metadata": {},
   "outputs": [
    {
     "data": {
      "text/plain": [
       "[1, 2, 3, 4, 5]"
      ]
     },
     "execution_count": 36,
     "metadata": {},
     "output_type": "execute_result"
    }
   ],
   "source": [
    "lst"
   ]
  },
  {
   "cell_type": "code",
   "execution_count": 37,
   "id": "547748f5",
   "metadata": {},
   "outputs": [
    {
     "data": {
      "text/plain": [
       "[1, 2, 3, 4, 5, 1, 2, 3, 4, 5]"
      ]
     },
     "execution_count": 37,
     "metadata": {},
     "output_type": "execute_result"
    }
   ],
   "source": [
    "lst + lst #concatenation"
   ]
  },
  {
   "cell_type": "code",
   "execution_count": 38,
   "id": "a3189054",
   "metadata": {
    "scrolled": true
   },
   "outputs": [
    {
     "data": {
      "text/plain": [
       "array([ 6, 12, 18, 24, 30])"
      ]
     },
     "execution_count": 38,
     "metadata": {},
     "output_type": "execute_result"
    }
   ],
   "source": [
    "lst_arr + tes"
   ]
  },
  {
   "cell_type": "code",
   "execution_count": 4,
   "id": "d6a9627f",
   "metadata": {},
   "outputs": [
    {
     "data": {
      "text/plain": [
       "array(5)"
      ]
     },
     "execution_count": 4,
     "metadata": {},
     "output_type": "execute_result"
    }
   ],
   "source": [
    "yes = np.array(5)\n",
    "yes"
   ]
  },
  {
   "cell_type": "code",
   "execution_count": 44,
   "id": "6d558d70",
   "metadata": {},
   "outputs": [
    {
     "data": {
      "text/plain": [
       "array([[1, 2, 3],\n",
       "       [5, 6, 7]])"
      ]
     },
     "execution_count": 44,
     "metadata": {},
     "output_type": "execute_result"
    }
   ],
   "source": [
    "nst_arr"
   ]
  },
  {
   "cell_type": "code",
   "execution_count": 45,
   "id": "be26164f",
   "metadata": {},
   "outputs": [
    {
     "data": {
      "text/plain": [
       "array([[1, 5],\n",
       "       [2, 6],\n",
       "       [3, 7]])"
      ]
     },
     "execution_count": 45,
     "metadata": {},
     "output_type": "execute_result"
    }
   ],
   "source": [
    "nst_arr.T"
   ]
  },
  {
   "cell_type": "markdown",
   "id": "cc359dae",
   "metadata": {},
   "source": [
    "### Numpy Indexing and slicing"
   ]
  },
  {
   "cell_type": "code",
   "execution_count": 51,
   "id": "203a53fd",
   "metadata": {},
   "outputs": [
    {
     "data": {
      "text/plain": [
       "range(0, 10, 2)"
      ]
     },
     "execution_count": 51,
     "metadata": {},
     "output_type": "execute_result"
    }
   ],
   "source": [
    "range(0, 10, 2)"
   ]
  },
  {
   "cell_type": "code",
   "execution_count": 56,
   "id": "73c3d5f5",
   "metadata": {},
   "outputs": [
    {
     "data": {
      "text/plain": [
       "[0, 2, 4, 6, 8]"
      ]
     },
     "execution_count": 56,
     "metadata": {},
     "output_type": "execute_result"
    }
   ],
   "source": [
    "list(range(0, 10, 2))"
   ]
  },
  {
   "cell_type": "code",
   "execution_count": 6,
   "id": "8ed03d4a",
   "metadata": {},
   "outputs": [
    {
     "data": {
      "text/plain": [
       "[0, 10, 20, 30, 40, 50, 60, 70, 80, 90]"
      ]
     },
     "execution_count": 6,
     "metadata": {},
     "output_type": "execute_result"
    }
   ],
   "source": [
    "list(range(0, 100, 10))"
   ]
  },
  {
   "cell_type": "code",
   "execution_count": 60,
   "id": "d3b813f1",
   "metadata": {},
   "outputs": [
    {
     "data": {
      "text/plain": [
       "[1, 2, 3, 4, 5]"
      ]
     },
     "execution_count": 60,
     "metadata": {},
     "output_type": "execute_result"
    }
   ],
   "source": [
    "lst "
   ]
  },
  {
   "cell_type": "code",
   "execution_count": 61,
   "id": "c2d1a679",
   "metadata": {
    "scrolled": true
   },
   "outputs": [
    {
     "name": "stdout",
     "output_type": "stream",
     "text": [
      "1\n",
      "8\n",
      "9\n",
      "64\n",
      "25\n"
     ]
    }
   ],
   "source": [
    "for i in lst:\n",
    "    if i%2==1:\n",
    "        print(i**2)\n",
    "    else:\n",
    "        print(i**3)"
   ]
  },
  {
   "cell_type": "code",
   "execution_count": 65,
   "id": "450de61c",
   "metadata": {},
   "outputs": [
    {
     "data": {
      "text/plain": [
       "[1, 8, 9, 64, 25]"
      ]
     },
     "execution_count": 65,
     "metadata": {},
     "output_type": "execute_result"
    }
   ],
   "source": [
    "output = [i**2 if i%2==1 else i**3 for i in lst]\n",
    "\n",
    "output"
   ]
  },
  {
   "cell_type": "markdown",
   "id": "abc72975",
   "metadata": {},
   "source": [
    "### Back to Numpy"
   ]
  },
  {
   "cell_type": "code",
   "execution_count": 73,
   "id": "b8853a4b",
   "metadata": {},
   "outputs": [
    {
     "data": {
      "text/plain": [
       "array([15, 22, 18, 22, 32,  4, 34, 36, 34, 23, 17, 46, 37, 47, 14])"
      ]
     },
     "execution_count": 73,
     "metadata": {},
     "output_type": "execute_result"
    }
   ],
   "source": [
    "seq = np.random.randint(0, 50, 15)\n",
    "seq"
   ]
  },
  {
   "cell_type": "code",
   "execution_count": 74,
   "id": "7177fa30",
   "metadata": {},
   "outputs": [
    {
     "data": {
      "text/plain": [
       "array([14, 47, 37, 46, 17, 23, 34, 36, 34,  4, 32, 22, 18, 22, 15])"
      ]
     },
     "execution_count": 74,
     "metadata": {},
     "output_type": "execute_result"
    }
   ],
   "source": [
    "seq[::-1]"
   ]
  },
  {
   "cell_type": "code",
   "execution_count": 75,
   "id": "4eb2131f",
   "metadata": {},
   "outputs": [
    {
     "data": {
      "text/plain": [
       "array([18, 22, 32,  4, 34])"
      ]
     },
     "execution_count": 75,
     "metadata": {},
     "output_type": "execute_result"
    }
   ],
   "source": [
    "seq[2:7]"
   ]
  },
  {
   "cell_type": "code",
   "execution_count": 78,
   "id": "c3014a7f",
   "metadata": {},
   "outputs": [
    {
     "data": {
      "text/plain": [
       "array([[15, 22, 18, 22, 32],\n",
       "       [ 4, 34, 36, 34, 23],\n",
       "       [17, 46, 37, 47, 14]])"
      ]
     },
     "execution_count": 78,
     "metadata": {},
     "output_type": "execute_result"
    }
   ],
   "source": [
    "sem = seq.reshape(3,5)\n",
    "sem"
   ]
  },
  {
   "cell_type": "code",
   "execution_count": 79,
   "id": "48b49937",
   "metadata": {},
   "outputs": [
    {
     "data": {
      "text/plain": [
       "36"
      ]
     },
     "execution_count": 79,
     "metadata": {},
     "output_type": "execute_result"
    }
   ],
   "source": [
    "sem[1,2]"
   ]
  },
  {
   "cell_type": "code",
   "execution_count": 82,
   "id": "e391de7b",
   "metadata": {},
   "outputs": [
    {
     "data": {
      "text/plain": [
       "47"
      ]
     },
     "execution_count": 82,
     "metadata": {},
     "output_type": "execute_result"
    }
   ],
   "source": [
    "sem[2,3]"
   ]
  },
  {
   "cell_type": "code",
   "execution_count": 83,
   "id": "5bbeed1a",
   "metadata": {},
   "outputs": [
    {
     "data": {
      "text/plain": [
       "34"
      ]
     },
     "execution_count": 83,
     "metadata": {},
     "output_type": "execute_result"
    }
   ],
   "source": [
    "sem[1,1]"
   ]
  },
  {
   "cell_type": "code",
   "execution_count": 84,
   "id": "327c1992",
   "metadata": {},
   "outputs": [
    {
     "data": {
      "text/plain": [
       "array([[15, 22, 18, 22, 32],\n",
       "       [ 4, 34, 36, 34, 23],\n",
       "       [17, 46, 37, 47, 14]])"
      ]
     },
     "execution_count": 84,
     "metadata": {},
     "output_type": "execute_result"
    }
   ],
   "source": [
    "sem"
   ]
  },
  {
   "cell_type": "code",
   "execution_count": 85,
   "id": "51abc3b2",
   "metadata": {},
   "outputs": [
    {
     "data": {
      "text/plain": [
       "array([[22, 18],\n",
       "       [34, 36]])"
      ]
     },
     "execution_count": 85,
     "metadata": {},
     "output_type": "execute_result"
    }
   ],
   "source": [
    "sem[0:2, 1:3]"
   ]
  },
  {
   "cell_type": "code",
   "execution_count": 90,
   "id": "824d74b1",
   "metadata": {},
   "outputs": [
    {
     "data": {
      "text/plain": [
       "array([[34, 23],\n",
       "       [47, 14]])"
      ]
     },
     "execution_count": 90,
     "metadata": {},
     "output_type": "execute_result"
    }
   ],
   "source": [
    "sem[1:, 3:]"
   ]
  },
  {
   "cell_type": "code",
   "execution_count": 91,
   "id": "3d1fcf9d",
   "metadata": {},
   "outputs": [
    {
     "data": {
      "text/plain": [
       "numpy.ndarray"
      ]
     },
     "execution_count": 91,
     "metadata": {},
     "output_type": "execute_result"
    }
   ],
   "source": [
    "type(seq)"
   ]
  },
  {
   "cell_type": "markdown",
   "id": "7d1ccdb1",
   "metadata": {},
   "source": [
    "## Special Methods"
   ]
  },
  {
   "cell_type": "code",
   "execution_count": 92,
   "id": "794ce293",
   "metadata": {},
   "outputs": [
    {
     "data": {
      "text/plain": [
       "array([15, 22, 18, 22, 32,  4, 34, 36, 34, 23, 17, 46, 37, 47, 14])"
      ]
     },
     "execution_count": 92,
     "metadata": {},
     "output_type": "execute_result"
    }
   ],
   "source": [
    "seq"
   ]
  },
  {
   "cell_type": "code",
   "execution_count": 93,
   "id": "f6cb0398",
   "metadata": {},
   "outputs": [
    {
     "data": {
      "text/plain": [
       "array([0., 0., 0., 0., 0.])"
      ]
     },
     "execution_count": 93,
     "metadata": {},
     "output_type": "execute_result"
    }
   ],
   "source": [
    "#one dimensional zeros\n",
    "np.zeros(5)"
   ]
  },
  {
   "cell_type": "code",
   "execution_count": 94,
   "id": "8be142e7",
   "metadata": {},
   "outputs": [
    {
     "data": {
      "text/plain": [
       "array([[0., 0., 0., 0., 0.],\n",
       "       [0., 0., 0., 0., 0.],\n",
       "       [0., 0., 0., 0., 0.],\n",
       "       [0., 0., 0., 0., 0.],\n",
       "       [0., 0., 0., 0., 0.]])"
      ]
     },
     "execution_count": 94,
     "metadata": {},
     "output_type": "execute_result"
    }
   ],
   "source": [
    "#two dimensional zeros\n",
    "np.zeros([5,5])"
   ]
  },
  {
   "cell_type": "code",
   "execution_count": 96,
   "id": "6ed77989",
   "metadata": {},
   "outputs": [
    {
     "data": {
      "text/plain": [
       "array([[1., 1., 1., 1., 1.],\n",
       "       [1., 1., 1., 1., 1.],\n",
       "       [1., 1., 1., 1., 1.],\n",
       "       [1., 1., 1., 1., 1.],\n",
       "       [1., 1., 1., 1., 1.]])"
      ]
     },
     "execution_count": 96,
     "metadata": {},
     "output_type": "execute_result"
    }
   ],
   "source": [
    "#two dimensional ones. Note that there is no \"twos\"\n",
    "np.ones([5,5])"
   ]
  },
  {
   "cell_type": "code",
   "execution_count": 102,
   "id": "404219f5",
   "metadata": {},
   "outputs": [
    {
     "data": {
      "text/plain": [
       "array([0.22496329, 0.05491917, 0.88977574, 0.43059913])"
      ]
     },
     "execution_count": 102,
     "metadata": {},
     "output_type": "execute_result"
    }
   ],
   "source": [
    "#random method is used to generate random numbers\n",
    "#can be used to add noise to data in machine learning later\n",
    "#it has lots of methods under it. press dot tab\n",
    "\n",
    "#np.random.rand is used to generate random numbers \n",
    "#within the normal distribution betweeen 0 and 1\n",
    "np.random.rand(4)"
   ]
  },
  {
   "cell_type": "code",
   "execution_count": 103,
   "id": "4913a13c",
   "metadata": {},
   "outputs": [
    {
     "data": {
      "text/plain": [
       "array([-0.92354232,  0.36953477,  0.26949067, -0.14416531, -0.15247529,\n",
       "       -1.15073172, -1.46072233,  0.31934111, -1.21987487,  1.32149898])"
      ]
     },
     "execution_count": 103,
     "metadata": {},
     "output_type": "execute_result"
    }
   ],
   "source": [
    "#np.random.randn is used to generate random numbers \n",
    "#within the normal distribution where 0 is the mean\n",
    "\n",
    "np.random.randn(10)"
   ]
  },
  {
   "cell_type": "code",
   "execution_count": 104,
   "id": "7db2549a",
   "metadata": {},
   "outputs": [
    {
     "data": {
      "text/plain": [
       "array([15, 22, 18, 22, 32,  4, 34, 36, 34, 23, 17, 46, 37, 47, 14])"
      ]
     },
     "execution_count": 104,
     "metadata": {},
     "output_type": "execute_result"
    }
   ],
   "source": [
    "seq"
   ]
  },
  {
   "cell_type": "code",
   "execution_count": 105,
   "id": "2932786c",
   "metadata": {},
   "outputs": [
    {
     "data": {
      "text/plain": [
       "4"
      ]
     },
     "execution_count": 105,
     "metadata": {},
     "output_type": "execute_result"
    }
   ],
   "source": [
    "seq.min()"
   ]
  },
  {
   "cell_type": "code",
   "execution_count": 106,
   "id": "265a0599",
   "metadata": {},
   "outputs": [
    {
     "data": {
      "text/plain": [
       "47"
      ]
     },
     "execution_count": 106,
     "metadata": {},
     "output_type": "execute_result"
    }
   ],
   "source": [
    "seq.max()"
   ]
  },
  {
   "cell_type": "code",
   "execution_count": 107,
   "id": "32b50d70",
   "metadata": {},
   "outputs": [
    {
     "data": {
      "text/plain": [
       "5"
      ]
     },
     "execution_count": 107,
     "metadata": {},
     "output_type": "execute_result"
    }
   ],
   "source": [
    "#index position of minimum value\n",
    "seq.argmin()"
   ]
  },
  {
   "cell_type": "code",
   "execution_count": 108,
   "id": "ed3174ca",
   "metadata": {},
   "outputs": [
    {
     "data": {
      "text/plain": [
       "13"
      ]
     },
     "execution_count": 108,
     "metadata": {},
     "output_type": "execute_result"
    }
   ],
   "source": [
    "#index position of maximum value\n",
    "seq.argmax()"
   ]
  },
  {
   "cell_type": "code",
   "execution_count": 109,
   "id": "fbd179d7",
   "metadata": {},
   "outputs": [
    {
     "data": {
      "text/plain": [
       "26.733333333333334"
      ]
     },
     "execution_count": 109,
     "metadata": {},
     "output_type": "execute_result"
    }
   ],
   "source": [
    "seq.mean()"
   ]
  },
  {
   "cell_type": "code",
   "execution_count": 110,
   "id": "11a5a8a3",
   "metadata": {},
   "outputs": [
    {
     "data": {
      "text/plain": [
       "11.980354288955269"
      ]
     },
     "execution_count": 110,
     "metadata": {},
     "output_type": "execute_result"
    }
   ],
   "source": [
    "seq.std()"
   ]
  },
  {
   "cell_type": "code",
   "execution_count": 111,
   "id": "19a2909b",
   "metadata": {},
   "outputs": [
    {
     "data": {
      "text/plain": [
       "143.5288888888889"
      ]
     },
     "execution_count": 111,
     "metadata": {},
     "output_type": "execute_result"
    }
   ],
   "source": [
    "seq.var()"
   ]
  },
  {
   "cell_type": "code",
   "execution_count": null,
   "id": "a102c89e",
   "metadata": {},
   "outputs": [],
   "source": []
  }
 ],
 "metadata": {
  "kernelspec": {
   "display_name": "Python 3 (ipykernel)",
   "language": "python",
   "name": "python3"
  },
  "language_info": {
   "codemirror_mode": {
    "name": "ipython",
    "version": 3
   },
   "file_extension": ".py",
   "mimetype": "text/x-python",
   "name": "python",
   "nbconvert_exporter": "python",
   "pygments_lexer": "ipython3",
   "version": "3.9.7"
  }
 },
 "nbformat": 4,
 "nbformat_minor": 5
}
