{
 "cells": [
  {
   "cell_type": "code",
   "execution_count": 1,
   "id": "fda1e2a0",
   "metadata": {},
   "outputs": [
    {
     "data": {
      "text/plain": [
       "4.0"
      ]
     },
     "execution_count": 1,
     "metadata": {},
     "output_type": "execute_result"
    }
   ],
   "source": [
    "2 + 2.0"
   ]
  },
  {
   "cell_type": "code",
   "execution_count": 2,
   "id": "23910e7b",
   "metadata": {},
   "outputs": [
    {
     "data": {
      "text/plain": [
       "float"
      ]
     },
     "execution_count": 2,
     "metadata": {},
     "output_type": "execute_result"
    }
   ],
   "source": [
    "type (4.0)"
   ]
  },
  {
   "cell_type": "markdown",
   "id": "232f50a6",
   "metadata": {},
   "source": [
    "### STRINGS"
   ]
  },
  {
   "cell_type": "markdown",
   "id": "657d0d0f",
   "metadata": {},
   "source": [
    "A string is any character that is bounded with a single or double quotation"
   ]
  },
  {
   "cell_type": "code",
   "execution_count": 3,
   "id": "8a0e7951",
   "metadata": {},
   "outputs": [
    {
     "data": {
      "text/plain": [
       "'The weather is sunny'"
      ]
     },
     "execution_count": 3,
     "metadata": {},
     "output_type": "execute_result"
    }
   ],
   "source": [
    "\"The weather is sunny\""
   ]
  },
  {
   "cell_type": "code",
   "execution_count": 4,
   "id": "c1b8b58a",
   "metadata": {},
   "outputs": [
    {
     "data": {
      "text/plain": [
       "('The', 'weather', 'is', 'sunny')"
      ]
     },
     "execution_count": 4,
     "metadata": {},
     "output_type": "execute_result"
    }
   ],
   "source": [
    "\"The\", \"weather\", \"is\", \"sunny\""
   ]
  },
  {
   "cell_type": "code",
   "execution_count": 5,
   "id": "520fc33c",
   "metadata": {},
   "outputs": [
    {
     "data": {
      "text/plain": [
       "int"
      ]
     },
     "execution_count": 5,
     "metadata": {},
     "output_type": "execute_result"
    }
   ],
   "source": [
    "type (1)"
   ]
  },
  {
   "cell_type": "code",
   "execution_count": 6,
   "id": "8d67efcc",
   "metadata": {},
   "outputs": [
    {
     "data": {
      "text/plain": [
       "(1, 2, 3, 4)"
      ]
     },
     "execution_count": 6,
     "metadata": {},
     "output_type": "execute_result"
    }
   ],
   "source": [
    "1, 2, 3, 4"
   ]
  },
  {
   "cell_type": "code",
   "execution_count": 7,
   "id": "c5669fb9",
   "metadata": {},
   "outputs": [],
   "source": [
    "# \"The girl's bag is very beautiful\""
   ]
  },
  {
   "cell_type": "code",
   "execution_count": 8,
   "id": "2a95c446",
   "metadata": {
    "scrolled": true
   },
   "outputs": [
    {
     "data": {
      "text/plain": [
       "\"The girl's ' bag is very beautiful\""
      ]
     },
     "execution_count": 8,
     "metadata": {},
     "output_type": "execute_result"
    }
   ],
   "source": [
    "'The girl\\'s \\' bag is very beautiful'"
   ]
  },
  {
   "cell_type": "markdown",
   "id": "b74d3d93",
   "metadata": {},
   "source": [
    "### Variable Assignment"
   ]
  },
  {
   "cell_type": "code",
   "execution_count": 9,
   "id": "8e40fe0f",
   "metadata": {},
   "outputs": [],
   "source": [
    "a = \"The girl's bag is very beautiful\" #the equal to sign is known as a n assignment operator"
   ]
  },
  {
   "cell_type": "code",
   "execution_count": 10,
   "id": "4b0a3ffc",
   "metadata": {},
   "outputs": [
    {
     "data": {
      "text/plain": [
       "\"The girl's bag is very beautiful\""
      ]
     },
     "execution_count": 10,
     "metadata": {},
     "output_type": "execute_result"
    }
   ],
   "source": [
    "a"
   ]
  },
  {
   "cell_type": "code",
   "execution_count": 11,
   "id": "1750a819",
   "metadata": {},
   "outputs": [
    {
     "data": {
      "text/plain": [
       "2"
      ]
     },
     "execution_count": 11,
     "metadata": {},
     "output_type": "execute_result"
    }
   ],
   "source": [
    "b=10%4\n",
    "b"
   ]
  },
  {
   "cell_type": "markdown",
   "id": "cd70fedd",
   "metadata": {},
   "source": [
    "### Booleans"
   ]
  },
  {
   "cell_type": "code",
   "execution_count": 12,
   "id": "365bdf07",
   "metadata": {},
   "outputs": [
    {
     "data": {
      "text/plain": [
       "(True, False)"
      ]
     },
     "execution_count": 12,
     "metadata": {},
     "output_type": "execute_result"
    }
   ],
   "source": [
    "True, False"
   ]
  },
  {
   "cell_type": "markdown",
   "id": "41c73446",
   "metadata": {},
   "source": [
    "Logical operators: >, <, >=, !=, <=, =="
   ]
  },
  {
   "cell_type": "code",
   "execution_count": 13,
   "id": "7be35c12",
   "metadata": {},
   "outputs": [
    {
     "data": {
      "text/plain": [
       "True"
      ]
     },
     "execution_count": 13,
     "metadata": {},
     "output_type": "execute_result"
    }
   ],
   "source": [
    "5>=625**(1/4)"
   ]
  },
  {
   "cell_type": "markdown",
   "id": "d33c73a8",
   "metadata": {},
   "source": [
    "### TUPLES"
   ]
  },
  {
   "cell_type": "markdown",
   "id": "f7833080",
   "metadata": {},
   "source": [
    "()\n",
    "[]\n",
    "{}"
   ]
  },
  {
   "cell_type": "markdown",
   "id": "4328481f",
   "metadata": {},
   "source": [
    "elements that are bounded by normal parenthesis in Python ()"
   ]
  },
  {
   "cell_type": "code",
   "execution_count": 14,
   "id": "9d782b62",
   "metadata": {},
   "outputs": [],
   "source": [
    "d = (1, 2, 3, 4, 5)"
   ]
  },
  {
   "cell_type": "markdown",
   "id": "4042240f",
   "metadata": {},
   "source": [
    "the above is a tuple of integers"
   ]
  },
  {
   "cell_type": "code",
   "execution_count": 15,
   "id": "af4d1171",
   "metadata": {},
   "outputs": [
    {
     "data": {
      "text/plain": [
       "tuple"
      ]
     },
     "execution_count": 15,
     "metadata": {},
     "output_type": "execute_result"
    }
   ],
   "source": [
    "type(d)"
   ]
  },
  {
   "cell_type": "code",
   "execution_count": 16,
   "id": "b578928f",
   "metadata": {},
   "outputs": [],
   "source": [
    "d_1 = ('a', 'v', 'd')"
   ]
  },
  {
   "cell_type": "code",
   "execution_count": 17,
   "id": "7c0f323d",
   "metadata": {},
   "outputs": [
    {
     "data": {
      "text/plain": [
       "tuple"
      ]
     },
     "execution_count": 17,
     "metadata": {},
     "output_type": "execute_result"
    }
   ],
   "source": [
    "type (d_1)"
   ]
  },
  {
   "cell_type": "markdown",
   "id": "0269d533",
   "metadata": {},
   "source": [
    "d_1 is a tuple of strings"
   ]
  },
  {
   "cell_type": "markdown",
   "id": "44630af8",
   "metadata": {},
   "source": [
    "the major characteristic of a tuple is that it is immutable (cannot be appended)"
   ]
  },
  {
   "cell_type": "code",
   "execution_count": 18,
   "id": "0e62950d",
   "metadata": {},
   "outputs": [
    {
     "data": {
      "text/plain": [
       "(1, 2, 3, 4, 5)"
      ]
     },
     "execution_count": 18,
     "metadata": {},
     "output_type": "execute_result"
    }
   ],
   "source": [
    "d"
   ]
  },
  {
   "cell_type": "markdown",
   "id": "06473d04",
   "metadata": {},
   "source": [
    "d. then press tab (tuples have methods of count and index)"
   ]
  },
  {
   "cell_type": "markdown",
   "id": "c942e697",
   "metadata": {},
   "source": [
    "### LISTS [ ]"
   ]
  },
  {
   "cell_type": "markdown",
   "id": "7466d3e0",
   "metadata": {},
   "source": [
    "The major characteristic of a list is that it is mutable - can be appended"
   ]
  },
  {
   "cell_type": "code",
   "execution_count": 19,
   "id": "d4b1eedd",
   "metadata": {},
   "outputs": [],
   "source": [
    "l =[1, 2, 3, 4, 5]"
   ]
  },
  {
   "cell_type": "code",
   "execution_count": 20,
   "id": "561512b9",
   "metadata": {},
   "outputs": [],
   "source": [
    "l.append(6)"
   ]
  },
  {
   "cell_type": "code",
   "execution_count": 21,
   "id": "919cb674",
   "metadata": {},
   "outputs": [
    {
     "data": {
      "text/plain": [
       "[1, 2, 3, 4, 5, 6]"
      ]
     },
     "execution_count": 21,
     "metadata": {},
     "output_type": "execute_result"
    }
   ],
   "source": [
    "l"
   ]
  },
  {
   "cell_type": "code",
   "execution_count": 22,
   "id": "1ceacbf0",
   "metadata": {},
   "outputs": [],
   "source": [
    "l.extend([6, 7, 8, 9])"
   ]
  },
  {
   "cell_type": "code",
   "execution_count": 23,
   "id": "eeafb143",
   "metadata": {},
   "outputs": [
    {
     "data": {
      "text/plain": [
       "[1, 2, 3, 4, 5, 6, 6, 7, 8, 9]"
      ]
     },
     "execution_count": 23,
     "metadata": {},
     "output_type": "execute_result"
    }
   ],
   "source": [
    "l"
   ]
  },
  {
   "cell_type": "markdown",
   "id": "cf93d084",
   "metadata": {},
   "source": [
    "concatenation"
   ]
  },
  {
   "cell_type": "code",
   "execution_count": 24,
   "id": "58a9991a",
   "metadata": {},
   "outputs": [
    {
     "data": {
      "text/plain": [
       "[1, 2, 3, 4, 5, 6, 6, 7, 8, 9]"
      ]
     },
     "execution_count": 24,
     "metadata": {},
     "output_type": "execute_result"
    }
   ],
   "source": [
    "l"
   ]
  },
  {
   "cell_type": "code",
   "execution_count": 25,
   "id": "6fac25e6",
   "metadata": {},
   "outputs": [],
   "source": [
    "y = [10, 20, 30]"
   ]
  },
  {
   "cell_type": "code",
   "execution_count": 26,
   "id": "16519ae4",
   "metadata": {},
   "outputs": [
    {
     "data": {
      "text/plain": [
       "[1, 2, 3, 4, 5, 6, 6, 7, 8, 9, 10, 20, 30]"
      ]
     },
     "execution_count": 26,
     "metadata": {},
     "output_type": "execute_result"
    }
   ],
   "source": [
    "l + y"
   ]
  },
  {
   "cell_type": "markdown",
   "id": "dbc5cd24",
   "metadata": {},
   "source": [
    "a list does not have the ability to broadcast or calculate stuff\n",
    "\n"
   ]
  },
  {
   "cell_type": "markdown",
   "id": "d78a6baa",
   "metadata": {},
   "source": [
    "### Dictionaries"
   ]
  },
  {
   "cell_type": "markdown",
   "id": "d28ff634",
   "metadata": {},
   "source": [
    "dictionaries are objects in python that are found in key:value pairs"
   ]
  },
  {
   "cell_type": "markdown",
   "id": "1ccfc107",
   "metadata": {},
   "source": [
    "the key always makes reference to the value. Not the other way round"
   ]
  },
  {
   "cell_type": "code",
   "execution_count": 27,
   "id": "537717d0",
   "metadata": {},
   "outputs": [],
   "source": [
    "d = {'a':1, 'b':2, 'c':3, 'd':4} #dictionary are found in key value pairs"
   ]
  },
  {
   "cell_type": "code",
   "execution_count": 28,
   "id": "bf3a4e0b",
   "metadata": {},
   "outputs": [],
   "source": [
    "Dutse = 'Dutse'"
   ]
  },
  {
   "cell_type": "code",
   "execution_count": 29,
   "id": "a9a7b2b7",
   "metadata": {},
   "outputs": [],
   "source": [
    "state_capital = {'Lagos':'Ikeja', 'Imo':'Owerri', 'Jigawa':'Dutse'}"
   ]
  },
  {
   "cell_type": "markdown",
   "id": "eaa98d0c",
   "metadata": {},
   "source": [
    "### SETS"
   ]
  },
  {
   "cell_type": "markdown",
   "id": "a45c191b",
   "metadata": {},
   "source": [
    "sets help us return the unique value/element in a list"
   ]
  },
  {
   "cell_type": "code",
   "execution_count": 30,
   "id": "6f9bae59",
   "metadata": {},
   "outputs": [],
   "source": [
    "lst = [1,2,3,4,4,4,6,5,5,4,5,7,7,5,77,5]"
   ]
  },
  {
   "cell_type": "code",
   "execution_count": 31,
   "id": "b5a6b2ab",
   "metadata": {},
   "outputs": [
    {
     "data": {
      "text/plain": [
       "{1, 2, 3, 4, 5, 6, 7, 77}"
      ]
     },
     "execution_count": 31,
     "metadata": {},
     "output_type": "execute_result"
    }
   ],
   "source": [
    "set(lst)"
   ]
  },
  {
   "cell_type": "code",
   "execution_count": 32,
   "id": "ade000b4",
   "metadata": {},
   "outputs": [],
   "source": [
    "s = {1,2,2,4,5,4,3,3,3,6,7,7,7}"
   ]
  },
  {
   "cell_type": "code",
   "execution_count": 33,
   "id": "40f3f4ec",
   "metadata": {},
   "outputs": [
    {
     "data": {
      "text/plain": [
       "{1, 2, 3, 4, 5, 6, 7}"
      ]
     },
     "execution_count": 33,
     "metadata": {},
     "output_type": "execute_result"
    }
   ],
   "source": [
    "s"
   ]
  },
  {
   "cell_type": "markdown",
   "id": "1236e8f9",
   "metadata": {},
   "source": [
    "## Indexing and Slicing"
   ]
  },
  {
   "cell_type": "code",
   "execution_count": 34,
   "id": "6a95d83e",
   "metadata": {},
   "outputs": [
    {
     "data": {
      "text/plain": [
       "[1, 2, 3, 4, 5, 6, 6, 7, 8, 9]"
      ]
     },
     "execution_count": 34,
     "metadata": {},
     "output_type": "execute_result"
    }
   ],
   "source": [
    "l"
   ]
  },
  {
   "cell_type": "code",
   "execution_count": 35,
   "id": "90bdcabc",
   "metadata": {},
   "outputs": [
    {
     "data": {
      "text/plain": [
       "5"
      ]
     },
     "execution_count": 35,
     "metadata": {},
     "output_type": "execute_result"
    }
   ],
   "source": [
    "l[4]"
   ]
  },
  {
   "cell_type": "code",
   "execution_count": 36,
   "id": "bd5af257",
   "metadata": {},
   "outputs": [],
   "source": [
    "ind = ['a', 'b', 'c', 'd', 'e', 'f', 'g']"
   ]
  },
  {
   "cell_type": "code",
   "execution_count": 37,
   "id": "fd0e362f",
   "metadata": {},
   "outputs": [
    {
     "data": {
      "text/plain": [
       "'d'"
      ]
     },
     "execution_count": 37,
     "metadata": {},
     "output_type": "execute_result"
    }
   ],
   "source": [
    "ind[3]"
   ]
  },
  {
   "cell_type": "code",
   "execution_count": 38,
   "id": "c6f2f79e",
   "metadata": {},
   "outputs": [
    {
     "data": {
      "text/plain": [
       "'a'"
      ]
     },
     "execution_count": 38,
     "metadata": {},
     "output_type": "execute_result"
    }
   ],
   "source": [
    "ind[0]"
   ]
  },
  {
   "cell_type": "code",
   "execution_count": 39,
   "id": "783fba0c",
   "metadata": {},
   "outputs": [
    {
     "data": {
      "text/plain": [
       "'f'"
      ]
     },
     "execution_count": 39,
     "metadata": {},
     "output_type": "execute_result"
    }
   ],
   "source": [
    "ind[5]"
   ]
  },
  {
   "cell_type": "code",
   "execution_count": 40,
   "id": "e43786aa",
   "metadata": {},
   "outputs": [
    {
     "data": {
      "text/plain": [
       "'e'"
      ]
     },
     "execution_count": 40,
     "metadata": {},
     "output_type": "execute_result"
    }
   ],
   "source": [
    "ind[-3]"
   ]
  },
  {
   "cell_type": "code",
   "execution_count": 41,
   "id": "af13738f",
   "metadata": {},
   "outputs": [
    {
     "data": {
      "text/plain": [
       "['g', 'f', 'e', 'd', 'c', 'b', 'a']"
      ]
     },
     "execution_count": 41,
     "metadata": {},
     "output_type": "execute_result"
    }
   ],
   "source": [
    "ind[::-1]"
   ]
  },
  {
   "cell_type": "markdown",
   "id": "b14fb3fb",
   "metadata": {},
   "source": [
    "the above is how to index list and tuples"
   ]
  },
  {
   "cell_type": "markdown",
   "id": "1b151917",
   "metadata": {},
   "source": [
    "Below is how to index dictionaries"
   ]
  },
  {
   "cell_type": "code",
   "execution_count": 42,
   "id": "2cc48941",
   "metadata": {},
   "outputs": [
    {
     "data": {
      "text/plain": [
       "{'a': 1, 'b': 2, 'c': 3, 'd': 4}"
      ]
     },
     "execution_count": 42,
     "metadata": {},
     "output_type": "execute_result"
    }
   ],
   "source": [
    "d"
   ]
  },
  {
   "cell_type": "code",
   "execution_count": 43,
   "id": "13f85290",
   "metadata": {},
   "outputs": [
    {
     "data": {
      "text/plain": [
       "2"
      ]
     },
     "execution_count": 43,
     "metadata": {},
     "output_type": "execute_result"
    }
   ],
   "source": [
    "d['b']"
   ]
  },
  {
   "cell_type": "code",
   "execution_count": 44,
   "id": "b3413113",
   "metadata": {},
   "outputs": [
    {
     "data": {
      "text/plain": [
       "1"
      ]
     },
     "execution_count": 44,
     "metadata": {},
     "output_type": "execute_result"
    }
   ],
   "source": [
    "d['a']"
   ]
  },
  {
   "cell_type": "code",
   "execution_count": 45,
   "id": "8cb34894",
   "metadata": {},
   "outputs": [
    {
     "data": {
      "text/plain": [
       "['a', 'b', 'c', 'd', 'e', 'f', 'g']"
      ]
     },
     "execution_count": 45,
     "metadata": {},
     "output_type": "execute_result"
    }
   ],
   "source": [
    "ind"
   ]
  },
  {
   "cell_type": "markdown",
   "id": "3d33ab54",
   "metadata": {},
   "source": [
    "In python indexing and slicing, the stop point is exclusive while the start point is inclusive"
   ]
  },
  {
   "cell_type": "code",
   "execution_count": 46,
   "id": "2da12e0d",
   "metadata": {},
   "outputs": [
    {
     "data": {
      "text/plain": [
       "['a', 'b', 'c']"
      ]
     },
     "execution_count": 46,
     "metadata": {},
     "output_type": "execute_result"
    }
   ],
   "source": [
    "ind[:3]"
   ]
  },
  {
   "cell_type": "code",
   "execution_count": 47,
   "id": "8031075d",
   "metadata": {},
   "outputs": [
    {
     "data": {
      "text/plain": [
       "['e', 'f', 'g']"
      ]
     },
     "execution_count": 47,
     "metadata": {},
     "output_type": "execute_result"
    }
   ],
   "source": [
    "ind[4:]"
   ]
  },
  {
   "cell_type": "code",
   "execution_count": 48,
   "id": "bfb2f5d5",
   "metadata": {},
   "outputs": [
    {
     "data": {
      "text/plain": [
       "['b', 'c', 'd', 'e']"
      ]
     },
     "execution_count": 48,
     "metadata": {},
     "output_type": "execute_result"
    }
   ],
   "source": [
    "ind[1:5]"
   ]
  },
  {
   "cell_type": "code",
   "execution_count": 49,
   "id": "98e0b488",
   "metadata": {},
   "outputs": [],
   "source": [
    "seq = list(range(0,50,3))"
   ]
  },
  {
   "cell_type": "code",
   "execution_count": 50,
   "id": "f2ef553d",
   "metadata": {},
   "outputs": [
    {
     "data": {
      "text/plain": [
       "[0, 3, 6, 9, 12, 15, 18, 21, 24, 27, 30, 33, 36, 39, 42, 45, 48]"
      ]
     },
     "execution_count": 50,
     "metadata": {},
     "output_type": "execute_result"
    }
   ],
   "source": [
    "seq"
   ]
  },
  {
   "cell_type": "code",
   "execution_count": 51,
   "id": "eca27519",
   "metadata": {},
   "outputs": [
    {
     "data": {
      "text/plain": [
       "[15, 18, 21, 24]"
      ]
     },
     "execution_count": 51,
     "metadata": {},
     "output_type": "execute_result"
    }
   ],
   "source": [
    "seq[5:9]"
   ]
  },
  {
   "cell_type": "code",
   "execution_count": 52,
   "id": "b1217fd1",
   "metadata": {},
   "outputs": [
    {
     "data": {
      "text/plain": [
       "{1: 'Jan', 2: 'Feb', 3: 'Mar', 4: 'Apr'}"
      ]
     },
     "execution_count": 52,
     "metadata": {},
     "output_type": "execute_result"
    }
   ],
   "source": [
    "month_dict = {1: 'Jan', 2: \"Feb\", 3: 'Mar', 4: 'Apr'}\n",
    "month_dict"
   ]
  },
  {
   "cell_type": "code",
   "execution_count": 53,
   "id": "5eb0c5f9",
   "metadata": {},
   "outputs": [
    {
     "data": {
      "text/plain": [
       "dict_keys([1, 2, 3, 4])"
      ]
     },
     "execution_count": 53,
     "metadata": {},
     "output_type": "execute_result"
    }
   ],
   "source": [
    "month_dict.keys()"
   ]
  },
  {
   "cell_type": "code",
   "execution_count": 54,
   "id": "7f383b63",
   "metadata": {},
   "outputs": [
    {
     "data": {
      "text/plain": [
       "dict_values(['Jan', 'Feb', 'Mar', 'Apr'])"
      ]
     },
     "execution_count": 54,
     "metadata": {},
     "output_type": "execute_result"
    }
   ],
   "source": [
    "month_dict.values()"
   ]
  },
  {
   "cell_type": "code",
   "execution_count": 55,
   "id": "5880bfdc",
   "metadata": {},
   "outputs": [
    {
     "data": {
      "text/plain": [
       "dict_items([(1, 'Jan'), (2, 'Feb'), (3, 'Mar'), (4, 'Apr')])"
      ]
     },
     "execution_count": 55,
     "metadata": {},
     "output_type": "execute_result"
    }
   ],
   "source": [
    "month_dict.items()"
   ]
  },
  {
   "cell_type": "code",
   "execution_count": 56,
   "id": "99326381",
   "metadata": {},
   "outputs": [
    {
     "data": {
      "text/plain": [
       "{1: 'Jan', 2: 'Feb', 3: 'Mar', 4: 'Apr'}"
      ]
     },
     "execution_count": 56,
     "metadata": {},
     "output_type": "execute_result"
    }
   ],
   "source": [
    "month_dict"
   ]
  },
  {
   "cell_type": "code",
   "execution_count": 57,
   "id": "9ad0a7a6",
   "metadata": {},
   "outputs": [
    {
     "data": {
      "text/plain": [
       "'Jan'"
      ]
     },
     "execution_count": 57,
     "metadata": {},
     "output_type": "execute_result"
    }
   ],
   "source": [
    "month_dict[1]"
   ]
  },
  {
   "cell_type": "code",
   "execution_count": 58,
   "id": "cc5ae8ea",
   "metadata": {},
   "outputs": [
    {
     "data": {
      "text/plain": [
       "'Feb'"
      ]
     },
     "execution_count": 58,
     "metadata": {},
     "output_type": "execute_result"
    }
   ],
   "source": [
    "month_dict[2]"
   ]
  },
  {
   "cell_type": "markdown",
   "id": "4f3fdbff",
   "metadata": {},
   "source": [
    "### Nested List"
   ]
  },
  {
   "cell_type": "code",
   "execution_count": 59,
   "id": "37776dc4",
   "metadata": {},
   "outputs": [],
   "source": [
    "nst = ['Jan', 'Feb', 'Mar', ['a', 'b', 'c', {5:'2', 'q':34, 't':[7, 8]}]]"
   ]
  },
  {
   "cell_type": "code",
   "execution_count": 60,
   "id": "1ce7d74c",
   "metadata": {},
   "outputs": [
    {
     "data": {
      "text/plain": [
       "8"
      ]
     },
     "execution_count": 60,
     "metadata": {},
     "output_type": "execute_result"
    }
   ],
   "source": [
    "nst[3][3]['t'][1]"
   ]
  },
  {
   "cell_type": "code",
   "execution_count": 61,
   "id": "85cd02e6",
   "metadata": {},
   "outputs": [
    {
     "data": {
      "text/plain": [
       "7"
      ]
     },
     "execution_count": 61,
     "metadata": {},
     "output_type": "execute_result"
    }
   ],
   "source": [
    "nst[3][3]['t'][0]"
   ]
  },
  {
   "cell_type": "code",
   "execution_count": 62,
   "id": "edbc53c0",
   "metadata": {},
   "outputs": [],
   "source": [
    "nst = {'a':[2, 3, 4, {'e':1, 'c':2, 'd':['cow', 'pig', 'bunny']}]}"
   ]
  },
  {
   "cell_type": "code",
   "execution_count": 63,
   "id": "ee3faea8",
   "metadata": {},
   "outputs": [
    {
     "data": {
      "text/plain": [
       "'pig'"
      ]
     },
     "execution_count": 63,
     "metadata": {},
     "output_type": "execute_result"
    }
   ],
   "source": [
    "nst['a'][3]['d'][1]"
   ]
  },
  {
   "cell_type": "code",
   "execution_count": 64,
   "id": "6f261328",
   "metadata": {},
   "outputs": [
    {
     "data": {
      "text/plain": [
       "2"
      ]
     },
     "execution_count": 64,
     "metadata": {},
     "output_type": "execute_result"
    }
   ],
   "source": [
    "nst['a'][3]['c']"
   ]
  },
  {
   "cell_type": "markdown",
   "id": "03765f11",
   "metadata": {},
   "source": [
    "### Operators in Python\n",
    "* if, else, elif\n",
    "* for loop\n",
    "* while loop\n",
    "* def functions\n",
    "* lambda statements\n",
    "* list comprehension\n",
    "* dictionary comprehension"
   ]
  },
  {
   "cell_type": "markdown",
   "id": "1a685906",
   "metadata": {},
   "source": [
    "### Print format Statement"
   ]
  },
  {
   "cell_type": "code",
   "execution_count": 65,
   "id": "f5a0e745",
   "metadata": {},
   "outputs": [
    {
     "name": "stdout",
     "output_type": "stream",
     "text": [
      "The richest active sportsman is Lewis Hamilton from Formula 1\n"
     ]
    }
   ],
   "source": [
    "print(\"The richest active sportsman is Lewis Hamilton from Formula 1\")"
   ]
  },
  {
   "cell_type": "code",
   "execution_count": 66,
   "id": "3d6b5ab4",
   "metadata": {},
   "outputs": [],
   "source": [
    "name = \"Lewis Hamilton\"\n",
    "sport = \"Formula 1\""
   ]
  },
  {
   "cell_type": "code",
   "execution_count": 67,
   "id": "fff24d16",
   "metadata": {},
   "outputs": [
    {
     "name": "stdout",
     "output_type": "stream",
     "text": [
      "The richest active sportsman is {} from {}\n"
     ]
    }
   ],
   "source": [
    "print(\"The richest active sportsman is {} from {}\")"
   ]
  },
  {
   "cell_type": "code",
   "execution_count": 68,
   "id": "98a626d2",
   "metadata": {
    "scrolled": true
   },
   "outputs": [
    {
     "name": "stdout",
     "output_type": "stream",
     "text": [
      "The richest active sportsman is Lewis Hamilton from Formula 1\n"
     ]
    }
   ],
   "source": [
    "print(\"The richest active sportsman is {} from {}\".format(name, sport))"
   ]
  },
  {
   "cell_type": "code",
   "execution_count": 69,
   "id": "5d149b2c",
   "metadata": {},
   "outputs": [
    {
     "name": "stdout",
     "output_type": "stream",
     "text": [
      "The richest active sportsman is Lewis Hamilton from Formula 1\n"
     ]
    }
   ],
   "source": [
    "print(f\"The richest active sportsman is {name} from {sport}\")"
   ]
  },
  {
   "cell_type": "code",
   "execution_count": 70,
   "id": "f50689be",
   "metadata": {},
   "outputs": [
    {
     "name": "stdout",
     "output_type": "stream",
     "text": [
      "The richest man in sports is Lewis Hamilton from Formula 1\n"
     ]
    }
   ],
   "source": [
    "print(\"The richest man in sports is %s from %s\" % (name, sport))"
   ]
  },
  {
   "cell_type": "markdown",
   "id": "b12a8c61",
   "metadata": {},
   "source": [
    "### if, else and elif"
   ]
  },
  {
   "cell_type": "markdown",
   "id": "acf8f9cf",
   "metadata": {},
   "source": [
    "* Example: if it rains today, stay at home, else go to the zoo"
   ]
  },
  {
   "cell_type": "code",
   "execution_count": 71,
   "id": "86c57625",
   "metadata": {},
   "outputs": [
    {
     "name": "stdout",
     "output_type": "stream",
     "text": [
      "okay\n"
     ]
    }
   ],
   "source": [
    "a = 10 \n",
    "\n",
    "if a > 10:\n",
    "    print(\"yes\")\n",
    "\n",
    "elif a == 10:\n",
    "    print(\"okay\")\n",
    "    \n",
    "elif a < 10:\n",
    "    print(\"no\")\n",
    "else:\n",
    "    print(\"invalid\")\n",
    "\n",
    "\n",
    "    \n",
    "    "
   ]
  },
  {
   "cell_type": "code",
   "execution_count": 72,
   "id": "6c4d03f9",
   "metadata": {},
   "outputs": [
    {
     "name": "stdout",
     "output_type": "stream",
     "text": [
      "Incorrect\n"
     ]
    }
   ],
   "source": [
    "if 1 > 5:\n",
    "    print('Not good')\n",
    "else: \n",
    "    print (\"Incorrect\")"
   ]
  },
  {
   "cell_type": "code",
   "execution_count": 73,
   "id": "25f2afbd",
   "metadata": {},
   "outputs": [
    {
     "name": "stdout",
     "output_type": "stream",
     "text": [
      "wrong\n"
     ]
    }
   ],
   "source": [
    "if 2 > 0.5*4:\n",
    "    print(\"correct\")\n",
    "elif 3 > 5**1/2: #else if\n",
    "    print(\"wrong\")\n",
    "elif 4 < 5:\n",
    "    print(\"Also correct\")\n",
    "else:\n",
    "    print(\"critical error\")"
   ]
  },
  {
   "cell_type": "markdown",
   "id": "10c43d09",
   "metadata": {},
   "source": [
    "# While Loop"
   ]
  },
  {
   "cell_type": "markdown",
   "id": "53f7c727",
   "metadata": {},
   "source": [
    "* As far as a condition is true, continue to run the operation"
   ]
  },
  {
   "cell_type": "markdown",
   "id": "34793e38",
   "metadata": {},
   "source": [
    "While Nepa's light is on, continue to blend maize"
   ]
  },
  {
   "cell_type": "code",
   "execution_count": 74,
   "id": "0c4d0735",
   "metadata": {},
   "outputs": [
    {
     "name": "stdout",
     "output_type": "stream",
     "text": [
      "i is : 1\n",
      "i is : 0\n",
      "i is : -1\n",
      "i is : -2\n",
      "i is : -3\n",
      "i is : -4\n"
     ]
    }
   ],
   "source": [
    "i = 1 #initialization\n",
    "\n",
    "while i > -5: #condition\n",
    "    print(f\"i is : {i}\") \n",
    "    i = i - 1 #increment"
   ]
  },
  {
   "cell_type": "markdown",
   "id": "828974bc",
   "metadata": {},
   "source": [
    "## for loop"
   ]
  },
  {
   "cell_type": "markdown",
   "id": "595d7a01",
   "metadata": {},
   "source": [
    "For loops a functions that are used to iterate over elements in a list or tuple"
   ]
  },
  {
   "cell_type": "code",
   "execution_count": null,
   "id": "91341933",
   "metadata": {},
   "outputs": [],
   "source": [
    "p = [1, 2, 3, 4, 5]\n",
    "\n",
    "for num in p:\n",
    "    print(number ** 2)"
   ]
  },
  {
   "cell_type": "code",
   "execution_count": null,
   "id": "2825bda6",
   "metadata": {},
   "outputs": [],
   "source": [
    "for i in p:\n",
    "    print(\"hello\")"
   ]
  },
  {
   "cell_type": "markdown",
   "id": "b6fe77c6",
   "metadata": {},
   "source": [
    "## def function"
   ]
  },
  {
   "cell_type": "markdown",
   "id": "56ddc2d0",
   "metadata": {},
   "source": [
    "used to create custom functions"
   ]
  },
  {
   "cell_type": "code",
   "execution_count": null,
   "id": "201905e7",
   "metadata": {},
   "outputs": [],
   "source": [
    "def times2(x):\n",
    "    return x*2\n"
   ]
  },
  {
   "cell_type": "code",
   "execution_count": null,
   "id": "cb9f2bfa",
   "metadata": {},
   "outputs": [],
   "source": []
  },
  {
   "cell_type": "code",
   "execution_count": null,
   "id": "399ea1a1",
   "metadata": {},
   "outputs": [],
   "source": [
    "times2(72)"
   ]
  },
  {
   "cell_type": "code",
   "execution_count": null,
   "id": "59990c63",
   "metadata": {},
   "outputs": [],
   "source": [
    "times2(31.2)"
   ]
  },
  {
   "cell_type": "markdown",
   "id": "859232d4",
   "metadata": {},
   "source": [
    "#### Kinetic Energy = (1/2)*m*v**2"
   ]
  },
  {
   "cell_type": "code",
   "execution_count": null,
   "id": "11bb931d",
   "metadata": {},
   "outputs": [],
   "source": [
    "def k_e(m, v):\n",
    "    return (1/2) * m * v ** 2"
   ]
  },
  {
   "cell_type": "code",
   "execution_count": null,
   "id": "24563fd3",
   "metadata": {},
   "outputs": [],
   "source": [
    "k_e (100, 2)"
   ]
  },
  {
   "cell_type": "code",
   "execution_count": null,
   "id": "a53940e8",
   "metadata": {},
   "outputs": [],
   "source": [
    "k_e(20, 5)"
   ]
  },
  {
   "cell_type": "markdown",
   "id": "58908669",
   "metadata": {},
   "source": [
    "#### SI = p * r * t / 100\n",
    "\n",
    "#### (0C x 9/5) + 32 = 32F (convert celcius to Fahrenheit)"
   ]
  },
  {
   "cell_type": "code",
   "execution_count": null,
   "id": "6264c523",
   "metadata": {},
   "outputs": [],
   "source": [
    "def S_I(p, r, t):\n",
    "    SI = p * r * t / 100\n",
    "    return SI"
   ]
  },
  {
   "cell_type": "code",
   "execution_count": null,
   "id": "03503253",
   "metadata": {},
   "outputs": [],
   "source": [
    "celcius = int(input())\n",
    "\n",
    "def conv(celcius):\n",
    "    return 9/5*celcius + 32\n",
    "\n",
    "fahrenheit = conv(celcius)\n",
    "print(fahrenheit)"
   ]
  },
  {
   "cell_type": "code",
   "execution_count": null,
   "id": "b45ffaa3",
   "metadata": {},
   "outputs": [],
   "source": [
    "def conv(celcius):\n",
    "    '''\n",
    "    This function is used to convert celcius to fahrenheit\n",
    "    input ===> int, float\n",
    "    output ===> int, float\n",
    "    \n",
    "    '''\n",
    "    return 9/5*celcius + 32"
   ]
  },
  {
   "cell_type": "code",
   "execution_count": null,
   "id": "b82ea293",
   "metadata": {},
   "outputs": [],
   "source": [
    "conv(37)"
   ]
  },
  {
   "cell_type": "markdown",
   "id": "4546a502",
   "metadata": {},
   "source": [
    "## Lambda Statements"
   ]
  },
  {
   "cell_type": "code",
   "execution_count": null,
   "id": "84f964ea",
   "metadata": {},
   "outputs": [],
   "source": [
    "a = lambda x: x*2"
   ]
  },
  {
   "cell_type": "code",
   "execution_count": null,
   "id": "96085f33",
   "metadata": {},
   "outputs": [],
   "source": [
    "a(2)"
   ]
  },
  {
   "cell_type": "markdown",
   "id": "fa74a907",
   "metadata": {},
   "source": [
    "## List Comprehensions"
   ]
  },
  {
   "cell_type": "code",
   "execution_count": null,
   "id": "e51e2ad8",
   "metadata": {
    "scrolled": true
   },
   "outputs": [],
   "source": [
    "p = [1, 2, 3, 4, 5]\n",
    "\n",
    "for number in p:\n",
    "    print(number ** 2)"
   ]
  },
  {
   "cell_type": "code",
   "execution_count": null,
   "id": "1bd92a7a",
   "metadata": {},
   "outputs": [],
   "source": [
    "p = [1, 2, 3, 4, 5] \n",
    "\n",
    "outt = []\n",
    "\n",
    "for number in p:\n",
    "    x = number ** 2\n",
    "    outt.append(x)\n",
    "    \n",
    "print(outt)\n",
    "    "
   ]
  },
  {
   "cell_type": "code",
   "execution_count": null,
   "id": "4df5897d",
   "metadata": {},
   "outputs": [],
   "source": [
    "out = [i**2 for i in p] ##list comprehension is shorter"
   ]
  },
  {
   "cell_type": "code",
   "execution_count": null,
   "id": "674c8e22",
   "metadata": {},
   "outputs": [],
   "source": [
    "out"
   ]
  },
  {
   "cell_type": "code",
   "execution_count": null,
   "id": "96a1ca38",
   "metadata": {},
   "outputs": [],
   "source": [
    "p = [1, 2, 3, 4, 5]\n",
    "\n",
    "out_1 = [i**2 if i > 2 else i for i in p]\n",
    "\n",
    "#this code can be interpreted as this: \"return i squared if i is \n",
    "#greater than 2 or else return i for every individual element in the list p\""
   ]
  },
  {
   "cell_type": "code",
   "execution_count": null,
   "id": "ae138ff5",
   "metadata": {},
   "outputs": [],
   "source": [
    "out_1"
   ]
  },
  {
   "cell_type": "markdown",
   "id": "66653c1a",
   "metadata": {},
   "source": [
    "### Dictionary Comprehension"
   ]
  },
  {
   "cell_type": "code",
   "execution_count": null,
   "id": "49d507e9",
   "metadata": {},
   "outputs": [],
   "source": [
    "month_dict"
   ]
  },
  {
   "cell_type": "code",
   "execution_count": null,
   "id": "2982bf31",
   "metadata": {},
   "outputs": [],
   "source": [
    "month_dict.items()"
   ]
  },
  {
   "cell_type": "code",
   "execution_count": null,
   "id": "f98def23",
   "metadata": {},
   "outputs": [],
   "source": [
    "month = {k**2:v for k,v in month_dict.items()}"
   ]
  },
  {
   "cell_type": "code",
   "execution_count": null,
   "id": "3088a3e0",
   "metadata": {},
   "outputs": [],
   "source": [
    "month"
   ]
  },
  {
   "cell_type": "code",
   "execution_count": null,
   "id": "9611a376",
   "metadata": {},
   "outputs": [],
   "source": [
    "month = {k**2:v.split() for k,v in month_dict.items()}"
   ]
  },
  {
   "cell_type": "code",
   "execution_count": null,
   "id": "93377554",
   "metadata": {},
   "outputs": [],
   "source": [
    "month"
   ]
  },
  {
   "cell_type": "code",
   "execution_count": null,
   "id": "e0c81ba9",
   "metadata": {},
   "outputs": [],
   "source": [
    "'Jan'.split()"
   ]
  },
  {
   "cell_type": "code",
   "execution_count": null,
   "id": "439b0732",
   "metadata": {},
   "outputs": [],
   "source": [
    "\"the boy is handsome\".split()"
   ]
  },
  {
   "cell_type": "code",
   "execution_count": null,
   "id": "2f53ed97",
   "metadata": {},
   "outputs": [],
   "source": [
    "\"steporiw@amazom.pl\".split('@')"
   ]
  },
  {
   "cell_type": "code",
   "execution_count": null,
   "id": "f45faa3c",
   "metadata": {},
   "outputs": [],
   "source": []
  }
 ],
 "metadata": {
  "kernelspec": {
   "display_name": "Python 3 (ipykernel)",
   "language": "python",
   "name": "python3"
  },
  "language_info": {
   "codemirror_mode": {
    "name": "ipython",
    "version": 3
   },
   "file_extension": ".py",
   "mimetype": "text/x-python",
   "name": "python",
   "nbconvert_exporter": "python",
   "pygments_lexer": "ipython3",
   "version": "3.9.7"
  }
 },
 "nbformat": 4,
 "nbformat_minor": 5
}
